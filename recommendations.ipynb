{
 "cells": [
  {
   "cell_type": "markdown",
   "id": "f4095ae4-7294-4b28-853e-88d235002c97",
   "metadata": {},
   "source": [
    "# Инициализация"
   ]
  },
  {
   "cell_type": "markdown",
   "id": "2f2318d2-9df8-4911-915e-15b725c44f8a",
   "metadata": {},
   "source": [
    "Загружаем библиотеки необходимые для выполнения кода ноутбука."
   ]
  },
  {
   "cell_type": "code",
   "execution_count": 1,
   "id": "662d04e7-1b0b-4e4a-9ddf-4526d7fef119",
   "metadata": {},
   "outputs": [],
   "source": [
    "import pandas as pd\n",
    "import numpy as np\n",
    "import matplotlib.pyplot as plt\n",
    "import seaborn as sns\n",
    "import pyarrow as pa\n",
    "import pyarrow.parquet as pq\n"
   ]
  },
  {
   "cell_type": "markdown",
   "id": "bf80fbc5-b660-4fac-8fbb-a5cae77313b3",
   "metadata": {},
   "source": [
    "# === ЭТАП 1 ==="
   ]
  },
  {
   "cell_type": "markdown",
   "id": "5263a8b3-fe99-4204-8a2e-105182792c11",
   "metadata": {},
   "source": [
    "# Загрузка первичных данных"
   ]
  },
  {
   "cell_type": "markdown",
   "id": "1b54a6a5-1656-4e3c-99d1-49dc39451d33",
   "metadata": {},
   "source": [
    "Загружаем первичные данные из файлов:\n",
    "- tracks.parquet\n",
    "- catalog_names.parquet\n",
    "- interactions.parquet"
   ]
  },
  {
   "cell_type": "code",
   "execution_count": 2,
   "id": "5d4b8961-3f35-4e58-9d6b-3e2dbd2c4224",
   "metadata": {},
   "outputs": [],
   "source": [
    "tracks = pd.read_parquet(\"tracks.parquet\")\n",
    "catalogs = pd.read_parquet(\"catalog_names.parquet\")\n",
    "interactions = pd.read_parquet(\"interactions.parquet\")"
   ]
  },
  {
   "cell_type": "markdown",
   "id": "e8f2a1f7-a05f-4f39-af90-5f4018aa6f9d",
   "metadata": {},
   "source": [
    "# Обзор данных"
   ]
  },
  {
   "cell_type": "markdown",
   "id": "46a85307-896c-4fac-9fcf-f0dffa90889e",
   "metadata": {},
   "source": [
    "Проверяем данные, есть ли с ними явные проблемы."
   ]
  },
  {
   "cell_type": "code",
   "execution_count": 3,
   "id": "c9f8f17e-9b56-4f5a-a463-f694a993effb",
   "metadata": {},
   "outputs": [
    {
     "data": {
      "text/plain": [
       "track_id     int64\n",
       "albums      object\n",
       "artists     object\n",
       "genres      object\n",
       "dtype: object"
      ]
     },
     "execution_count": 3,
     "metadata": {},
     "output_type": "execute_result"
    }
   ],
   "source": [
    "tracks.dtypes"
   ]
  },
  {
   "cell_type": "code",
   "execution_count": 4,
   "id": "efd2e2eb-3bec-4ce1-87ac-232bab8bc0d0",
   "metadata": {},
   "outputs": [
    {
     "data": {
      "text/plain": [
       "id       int64\n",
       "type    object\n",
       "name    object\n",
       "dtype: object"
      ]
     },
     "execution_count": 4,
     "metadata": {},
     "output_type": "execute_result"
    }
   ],
   "source": [
    "catalogs.dtypes"
   ]
  },
  {
   "cell_type": "code",
   "execution_count": 5,
   "id": "92123835-bb39-49f5-b16b-a73f3af9ef36",
   "metadata": {},
   "outputs": [
    {
     "data": {
      "text/plain": [
       "user_id                int32\n",
       "track_id               int32\n",
       "track_seq              int16\n",
       "started_at    datetime64[ns]\n",
       "dtype: object"
      ]
     },
     "execution_count": 5,
     "metadata": {},
     "output_type": "execute_result"
    }
   ],
   "source": [
    "interactions.dtypes"
   ]
  },
  {
   "cell_type": "code",
   "execution_count": 6,
   "id": "391e364c-de91-4912-bd28-a955cac05f86",
   "metadata": {},
   "outputs": [
    {
     "name": "stdout",
     "output_type": "stream",
     "text": [
      "track_id    0\n",
      "albums      0\n",
      "artists     0\n",
      "genres      0\n",
      "dtype: int64\n",
      "id      0\n",
      "type    0\n",
      "name    0\n",
      "dtype: int64\n",
      "user_id       0\n",
      "track_id      0\n",
      "track_seq     0\n",
      "started_at    0\n",
      "dtype: int64\n"
     ]
    }
   ],
   "source": [
    "print(tracks.isnull().sum())\n",
    "print(catalogs.isnull().sum())\n",
    "print(interactions.isnull().sum())"
   ]
  },
  {
   "cell_type": "code",
   "execution_count": 7,
   "id": "6eb99b21-ac68-4a6a-9365-2191255a73fc",
   "metadata": {},
   "outputs": [
    {
     "name": "stdout",
     "output_type": "stream",
     "text": [
      "set()\n",
      "set()\n",
      "{130, 131, 132, 133, 134, 135, 146, 148, 150, 151, 152, 153, 154, 155, 156, 157, 158, 159, 160, 161, 162, 163, 164, 165, 166, 167, 168, 169, 124, 126}\n",
      "set()\n"
     ]
    }
   ],
   "source": [
    "artists_ref = set(catalogs[catalogs['type'] == 'artist']['id'])\n",
    "albums_ref = set(catalogs[catalogs['type'] == 'album']['id'])\n",
    "genres_ref = set(catalogs[catalogs['type'] == 'genre']['id'])\n",
    "tracks_ref = set(catalogs[catalogs['type'] == 'track']['id'])\n",
    "\n",
    "all_artists = set(np.concatenate(tracks['artists'].values))\n",
    "all_albums = set(np.concatenate(tracks['albums'].values))\n",
    "all_genres = set(np.concatenate(tracks['genres'].values))\n",
    "\n",
    "miss_artists = all_artists - artists_ref\n",
    "miss_albums = all_albums - albums_ref\n",
    "miss_genres = all_genres - genres_ref\n",
    "miss_tracks = set(interactions['track_id'])-set(tracks['track_id'])\n",
    "print(miss_artists)\n",
    "print(miss_albums)\n",
    "print(miss_genres)\n",
    "print(miss_tracks)"
   ]
  },
  {
   "cell_type": "code",
   "execution_count": 8,
   "id": "77056b1b-c34f-48ae-b3c5-ec1991c36f70",
   "metadata": {},
   "outputs": [],
   "source": [
    "tracks_clean = tracks[\n",
    "    tracks['artists'].apply(lambda x: all(i in artists_ref for i in x)) &\n",
    "    tracks['albums'].apply(lambda x: all(i in albums_ref for i in x)) &\n",
    "    tracks['genres'].apply(lambda x: all(i in genres_ref for i in x))\n",
    "]"
   ]
  },
  {
   "cell_type": "code",
   "execution_count": 9,
   "id": "106505d8-d4d8-4d05-8342-be84982bfeb6",
   "metadata": {},
   "outputs": [],
   "source": [
    "interactions_clean = interactions[interactions['track_id'].isin(tracks_clean['track_id'])]"
   ]
  },
  {
   "cell_type": "markdown",
   "id": "318b573a-9e2d-4808-95db-60cfb8bbdb73",
   "metadata": {
    "editable": true,
    "slideshow": {
     "slide_type": ""
    },
    "tags": []
   },
   "source": [
    "# Выводы"
   ]
  },
  {
   "cell_type": "markdown",
   "id": "caa96e12-36a8-4401-8f11-98627a49ae9d",
   "metadata": {},
   "source": [
    "Приведём выводы по первому знакомству с данными:\n",
    "- есть ли с данными явные проблемы,\n",
    "- какие корректирующие действия (в целом) были предприняты."
   ]
  },
  {
   "cell_type": "code",
   "execution_count": 10,
   "id": "f58cd010-c2fa-475f-b7e9-767965cd4f55",
   "metadata": {},
   "outputs": [
    {
     "name": "stdout",
     "output_type": "stream",
     "text": [
      "Оригинальные треки: 1000000, Очищенные треки: 951655\n",
      "Оригинальные взаимодействия: 222629898, Очищенные взаимодействия: 215165690\n",
      "Отсутствующие артисты: 0\n",
      "Отсутствующие альбомы: 0\n",
      "Отсутствующие жанры: 30\n"
     ]
    }
   ],
   "source": [
    "print(f\"Оригинальные треки: {len(tracks)}, Очищенные треки: {len(tracks_clean)}\")\n",
    "print(f\"Оригинальные взаимодействия: {len(interactions)}, Очищенные взаимодействия: {len(interactions_clean)}\")\n",
    "print(f\"Отсутствующие артисты: {len(miss_artists)}\")\n",
    "print(f\"Отсутствующие альбомы: {len(miss_albums)}\")\n",
    "print(f\"Отсутствующие жанры: {len(miss_genres)}\")"
   ]
  },
  {
   "cell_type": "markdown",
   "id": "9375e725-e6fb-43f1-a04d-36718b0b6130",
   "metadata": {},
   "source": [
    "Были удалены записи, чьи жанры отсутсвовали в таблице жанров"
   ]
  },
  {
   "cell_type": "markdown",
   "id": "7bc3296b-eba6-4333-a78d-b9304aa87e3d",
   "metadata": {},
   "source": [
    "# === ЭТАП 2 ==="
   ]
  },
  {
   "cell_type": "markdown",
   "id": "68e73960-fd38-4e15-8db0-9a25c35dfd25",
   "metadata": {},
   "source": [
    "# EDA"
   ]
  },
  {
   "cell_type": "markdown",
   "id": "a30e823e-8e0f-4a76-a02e-8d1ba8bf0f8a",
   "metadata": {},
   "source": [
    "Распределение количества прослушанных треков."
   ]
  },
  {
   "cell_type": "code",
   "execution_count": 11,
   "id": "9bf5eaba-35f7-4da7-be59-9ab4a34b2423",
   "metadata": {},
   "outputs": [
    {
     "data": {
      "image/png": "[encoded data removed]",
      "text/plain": [
       "<Figure size 1200x600 with 1 Axes>"
      ]
     },
     "metadata": {},
     "output_type": "display_data"
    },
    {
     "name": "stderr",
     "output_type": "stream",
     "text": [
      "/home/mle-user/mle_projects/mle-project-sprint-4-v001/env_recsys_start/lib/python3.10/site-packages/seaborn/_oldcore.py:1498: FutureWarning: is_categorical_dtype is deprecated and will be removed in a future version. Use isinstance(dtype, CategoricalDtype) instead\n",
      "  if pd.api.types.is_categorical_dtype(vector):\n"
     ]
    },
    {
     "data": {
      "image/png": "[encoded data removed]",
      "text/plain": [
       "<Figure size 1200x600 with 1 Axes>"
      ]
     },
     "metadata": {},
     "output_type": "display_data"
    }
   ],
   "source": [
    "user_plays = interactions_clean.groupby('user_id').size().reset_index(name='play_count')\n",
    "\n",
    "plt.figure(figsize=(12, 6))\n",
    "plt.hist(user_plays['play_count'], bins=50, log=True)\n",
    "plt.title('Распределение количества прослушиваний на пользователя')\n",
    "plt.xlabel('Количество прослушанных треков')\n",
    "plt.ylabel('Количество пользователей')\n",
    "plt.show()\n",
    "\n",
    "plt.figure(figsize=(12, 6))\n",
    "sns.boxplot(x=user_plays['play_count'])\n",
    "plt.title('boxplot прослушиваний на пользователя')\n",
    "plt.xlabel('Количество прослушанных треков')\n",
    "plt.show()"
   ]
  },
  {
   "cell_type": "markdown",
   "id": "d765519a-18dd-4d30-9e29-cc2d84cacd79",
   "metadata": {},
   "source": [
    "Наиболее популярные треки"
   ]
  },
  {
   "cell_type": "code",
   "execution_count": 12,
   "id": "aecaf630-fde0-4860-b84a-42c933a9606e",
   "metadata": {},
   "outputs": [
    {
     "name": "stdout",
     "output_type": "stream",
     "text": [
      "Топ-10 популярных треков:\n",
      "                     track_name  play_count\n",
      "9098    Smells Like Teen Spirit      111062\n",
      "483876                 Believer      106921\n",
      "26665                      Numb      101924\n",
      "512157               I Got Love       99490\n",
      "829320                   Юность       86670\n",
      "368072           Way Down We Go       86246\n",
      "475289             Shape of You       85886\n",
      "696106               In The End       85244\n",
      "90461         Shape Of My Heart       85042\n",
      "647237                     Life       84748\n"
     ]
    }
   ],
   "source": [
    "track_names = catalogs[catalogs['type']=='track'].set_index('id')['name']\n",
    "top_tracks = (\n",
    "    interactions.groupby('track_id')\n",
    "    .size()\n",
    "    .reset_index(name='play_count')\n",
    "    .sort_values('play_count', ascending=False)\n",
    "    .head(10)\n",
    ")\n",
    "\n",
    "top_tracks['track_name'] = top_tracks['track_id'].map(track_names)\n",
    "\n",
    "print(\"Топ-10 популярных треков:\")\n",
    "print(top_tracks[['track_name', 'play_count']])"
   ]
  },
  {
   "cell_type": "markdown",
   "id": "b1c32a5a-d3be-4f96-8dd9-f7860951020c",
   "metadata": {},
   "source": [
    "Наиболее популярные жанры"
   ]
  },
  {
   "cell_type": "code",
   "execution_count": 13,
   "id": "1bc50491-9235-4d3c-a6c2-297f7c05a959",
   "metadata": {},
   "outputs": [
    {
     "name": "stdout",
     "output_type": "stream",
     "text": [
      "Топ-10 популярных жанров:\n",
      "     genre_name  play_count\n",
      "10          pop    55551141\n",
      "70          rap    37799684\n",
      "95      allrock    31085593\n",
      "19       ruspop    26626241\n",
      "2        rusrap    25303695\n",
      "63  electronics    18376349\n",
      "15        dance    16267222\n",
      "1       rusrock    13166147\n",
      "13         rock    12769718\n",
      "40   foreignrap    12194520\n"
     ]
    }
   ],
   "source": [
    "genre_names = catalogs[catalogs['type'] == 'genre'].set_index('id')['name']\n",
    "# Создание связи трек-жанр (развертка списков жанров)\n",
    "track_genres = tracks_clean[['track_id', 'genres']].explode('genres')\n",
    "\n",
    "# Соединение с данными прослушиваний\n",
    "genre_plays = (\n",
    "    pd.merge(interactions[['track_id']], track_genres, on='track_id')\n",
    "    .groupby('genres')\n",
    "    .size()\n",
    "    .reset_index(name='play_count')\n",
    "    .sort_values('play_count', ascending=False)\n",
    "    .head(10)\n",
    ")\n",
    "\n",
    "# Добавление названий жанров\n",
    "genre_plays['genre_name'] = genre_plays['genres'].map(genre_names)\n",
    "\n",
    "# Результат\n",
    "print(\"Топ-10 популярных жанров:\")\n",
    "print(genre_plays[['genre_name', 'play_count']])"
   ]
  },
  {
   "cell_type": "markdown",
   "id": "15254e66-e80e-473b-ba24-abebea5ccac7",
   "metadata": {},
   "source": [
    "Треки, которые никто не прослушал"
   ]
  },
  {
   "cell_type": "code",
   "execution_count": 14,
   "id": "50bc50c6-2d83-4c7e-97fa-3e7627978438",
   "metadata": {
    "scrolled": true
   },
   "outputs": [
    {
     "name": "stdout",
     "output_type": "stream",
     "text": [
      "Empty DataFrame\n",
      "Columns: [track_id, albums, artists, genres, track_name]\n",
      "Index: []\n"
     ]
    }
   ],
   "source": [
    "listened_tracks = set(interactions_clean['track_id'])\n",
    "unlistened_tracks = tracks_clean[~tracks_clean['track_id'].isin(listened_tracks)]\n",
    "track_names = catalogs[catalogs['type'] == 'track'].set_index('id')['name']\n",
    "unlistened_tracks['track_name'] = unlistened_tracks['track_id'].map(track_names)\n",
    "print(unlistened_tracks)"
   ]
  },
  {
   "cell_type": "markdown",
   "id": "f14f36e2-3c87-406f-b1e4-a4cc3f2f7776",
   "metadata": {},
   "source": [
    "Все треки хотя бы раз были прослушаны!"
   ]
  },
  {
   "cell_type": "markdown",
   "id": "0d850a07-ef1e-462f-891a-1cf89f2e24ef",
   "metadata": {},
   "source": [
    "# Преобразование данных"
   ]
  },
  {
   "cell_type": "markdown",
   "id": "fabcf8d2-1192-4df5-b20b-fbb84689f57a",
   "metadata": {},
   "source": [
    "Преобразуем данные в формат, более пригодный для дальнейшего использования в расчётах рекомендаций."
   ]
  },
  {
   "cell_type": "code",
   "execution_count": 1,
   "id": "a425556a-9382-45ca-a04e-f1981a522126",
   "metadata": {},
   "outputs": [
    {
     "ename": "NameError",
     "evalue": "name 'catalogs' is not defined",
     "output_type": "error",
     "traceback": [
      "\u001b[0;31m---------------------------------------------------------------------------\u001b[0m",
      "\u001b[0;31mNameError\u001b[0m                                 Traceback (most recent call last)",
      "Cell \u001b[0;32mIn[1], line 1\u001b[0m\n\u001b[0;32m----> 1\u001b[0m track_names \u001b[38;5;241m=\u001b[39m \u001b[43mcatalogs\u001b[49m[catalogs[\u001b[38;5;124m'\u001b[39m\u001b[38;5;124mtype\u001b[39m\u001b[38;5;124m'\u001b[39m] \u001b[38;5;241m==\u001b[39m \u001b[38;5;124m'\u001b[39m\u001b[38;5;124mtrack\u001b[39m\u001b[38;5;124m'\u001b[39m]\u001b[38;5;241m.\u001b[39mset_index(\u001b[38;5;124m'\u001b[39m\u001b[38;5;124mid\u001b[39m\u001b[38;5;124m'\u001b[39m)[\u001b[38;5;124m'\u001b[39m\u001b[38;5;124mname\u001b[39m\u001b[38;5;124m'\u001b[39m]\n\u001b[1;32m      2\u001b[0m album_names \u001b[38;5;241m=\u001b[39m catalogs[catalogs[\u001b[38;5;124m'\u001b[39m\u001b[38;5;124mtype\u001b[39m\u001b[38;5;124m'\u001b[39m] \u001b[38;5;241m==\u001b[39m \u001b[38;5;124m'\u001b[39m\u001b[38;5;124malbum\u001b[39m\u001b[38;5;124m'\u001b[39m]\u001b[38;5;241m.\u001b[39mset_index(\u001b[38;5;124m'\u001b[39m\u001b[38;5;124mid\u001b[39m\u001b[38;5;124m'\u001b[39m)[\u001b[38;5;124m'\u001b[39m\u001b[38;5;124mname\u001b[39m\u001b[38;5;124m'\u001b[39m]\n\u001b[1;32m      3\u001b[0m artist_names \u001b[38;5;241m=\u001b[39m catalogs[catalogs[\u001b[38;5;124m'\u001b[39m\u001b[38;5;124mtype\u001b[39m\u001b[38;5;124m'\u001b[39m] \u001b[38;5;241m==\u001b[39m \u001b[38;5;124m'\u001b[39m\u001b[38;5;124martist\u001b[39m\u001b[38;5;124m'\u001b[39m]\u001b[38;5;241m.\u001b[39mset_index(\u001b[38;5;124m'\u001b[39m\u001b[38;5;124mid\u001b[39m\u001b[38;5;124m'\u001b[39m)[\u001b[38;5;124m'\u001b[39m\u001b[38;5;124mname\u001b[39m\u001b[38;5;124m'\u001b[39m]\n",
      "\u001b[0;31mNameError\u001b[0m: name 'catalogs' is not defined"
     ]
    }
   ],
   "source": [
    "track_names = catalogs[catalogs['type'] == 'track'].set_index('id')['name']\n",
    "album_names = catalogs[catalogs['type'] == 'album'].set_index('id')['name']\n",
    "artist_names = catalogs[catalogs['type'] == 'artist'].set_index('id')['name']\n",
    "genre_names = catalogs[catalogs['type'] == 'genre'].set_index('id')['name']\n",
    "\n",
    "tracks_clean['track_name'] = tracks_clean['track_id'].map(track_names)\n",
    "tracks_clean['album_names'] = tracks_clean['albums'].apply(\n",
    "    lambda x: [album_names.get(a, 'Unknown') for a in x]\n",
    ")\n",
    "tracks_clean['artist_names'] = tracks_clean['artists'].apply(\n",
    "    lambda x: [artist_names.get(a, 'Unknown') for a in x]\n",
    ")\n",
    "tracks_clean['genre_names'] = tracks_clean['genres'].apply(\n",
    "    lambda x: [genre_names.get(g, 'Unknown') for g in x]\n",
    ")\n",
    "\n",
    "# Формирование финальной таблицы\n",
    "items_df = tracks_clean[[\n",
    "    'track_id', \n",
    "    'track_name',\n",
    "    'albums',\n",
    "    'album_names',\n",
    "    'artists',\n",
    "    'artist_names',\n",
    "    'genres',\n",
    "    'genre_names'\n",
    "]].rename(columns={\n",
    "    'albums': 'album_ids',\n",
    "    'artists': 'artist_ids',\n",
    "    'genres': 'genre_ids'\n",
    "})\n"
   ]
  },
  {
   "cell_type": "code",
   "execution_count": 16,
   "id": "edd331d2-7f7e-468d-a232-1afe2cb165bc",
   "metadata": {},
   "outputs": [
    {
     "name": "stderr",
     "output_type": "stream",
     "text": [
      "/tmp/ipykernel_25266/3549876754.py:1: SettingWithCopyWarning: \n",
      "A value is trying to be set on a copy of a slice from a DataFrame.\n",
      "Try using .loc[row_indexer,col_indexer] = value instead\n",
      "\n",
      "See the caveats in the documentation: https://pandas.pydata.org/pandas-docs/stable/user_guide/indexing.html#returning-a-view-versus-a-copy\n",
      "  interactions_clean['started_at'] = pd.to_datetime(interactions_clean['started_at'])\n",
      "/tmp/ipykernel_25266/3549876754.py:3: SettingWithCopyWarning: \n",
      "A value is trying to be set on a copy of a slice from a DataFrame.\n",
      "Try using .loc[row_indexer,col_indexer] = value instead\n",
      "\n",
      "See the caveats in the documentation: https://pandas.pydata.org/pandas-docs/stable/user_guide/indexing.html#returning-a-view-versus-a-copy\n",
      "  interactions_clean['day_of_week'] = interactions_clean['started_at'].dt.dayofweek\n",
      "/tmp/ipykernel_25266/3549876754.py:4: SettingWithCopyWarning: \n",
      "A value is trying to be set on a copy of a slice from a DataFrame.\n",
      "Try using .loc[row_indexer,col_indexer] = value instead\n",
      "\n",
      "See the caveats in the documentation: https://pandas.pydata.org/pandas-docs/stable/user_guide/indexing.html#returning-a-view-versus-a-copy\n",
      "  interactions_clean['month'] = interactions_clean['started_at'].dt.month\n"
     ]
    }
   ],
   "source": [
    "interactions_clean['started_at'] = pd.to_datetime(interactions_clean['started_at'])\n",
    "\n",
    "interactions_clean['day_of_week'] = interactions_clean['started_at'].dt.dayofweek\n",
    "interactions_clean['month'] = interactions_clean['started_at'].dt.month"
   ]
  },
  {
   "cell_type": "code",
   "execution_count": 17,
   "id": "cfbbb165-5012-40cf-b676-e2589dec5819",
   "metadata": {},
   "outputs": [
    {
     "data": {
      "text/html": [
       "<div>\n",
       "<style scoped>\n",
       "    .dataframe tbody tr th:only-of-type {\n",
       "        vertical-align: middle;\n",
       "    }\n",
       "\n",
       "    .dataframe tbody tr th {\n",
       "        vertical-align: top;\n",
       "    }\n",
       "\n",
       "    .dataframe thead th {\n",
       "        text-align: right;\n",
       "    }\n",
       "</style>\n",
       "<table border=\"1\" class=\"dataframe\">\n",
       "  <thead>\n",
       "    <tr style=\"text-align: right;\">\n",
       "      <th></th>\n",
       "      <th>user_id</th>\n",
       "      <th>track_id</th>\n",
       "      <th>track_seq</th>\n",
       "      <th>started_at</th>\n",
       "      <th>day_of_week</th>\n",
       "      <th>month</th>\n",
       "    </tr>\n",
       "  </thead>\n",
       "  <tbody>\n",
       "    <tr>\n",
       "      <th>0</th>\n",
       "      <td>0</td>\n",
       "      <td>99262</td>\n",
       "      <td>1</td>\n",
       "      <td>2022-07-17</td>\n",
       "      <td>6</td>\n",
       "      <td>7</td>\n",
       "    </tr>\n",
       "    <tr>\n",
       "      <th>1</th>\n",
       "      <td>0</td>\n",
       "      <td>589498</td>\n",
       "      <td>2</td>\n",
       "      <td>2022-07-19</td>\n",
       "      <td>1</td>\n",
       "      <td>7</td>\n",
       "    </tr>\n",
       "    <tr>\n",
       "      <th>2</th>\n",
       "      <td>0</td>\n",
       "      <td>590262</td>\n",
       "      <td>3</td>\n",
       "      <td>2022-07-21</td>\n",
       "      <td>3</td>\n",
       "      <td>7</td>\n",
       "    </tr>\n",
       "    <tr>\n",
       "      <th>3</th>\n",
       "      <td>0</td>\n",
       "      <td>590303</td>\n",
       "      <td>4</td>\n",
       "      <td>2022-07-22</td>\n",
       "      <td>4</td>\n",
       "      <td>7</td>\n",
       "    </tr>\n",
       "    <tr>\n",
       "      <th>4</th>\n",
       "      <td>0</td>\n",
       "      <td>590692</td>\n",
       "      <td>5</td>\n",
       "      <td>2022-07-22</td>\n",
       "      <td>4</td>\n",
       "      <td>7</td>\n",
       "    </tr>\n",
       "    <tr>\n",
       "      <th>...</th>\n",
       "      <td>...</td>\n",
       "      <td>...</td>\n",
       "      <td>...</td>\n",
       "      <td>...</td>\n",
       "      <td>...</td>\n",
       "      <td>...</td>\n",
       "    </tr>\n",
       "    <tr>\n",
       "      <th>287</th>\n",
       "      <td>1374582</td>\n",
       "      <td>95514767</td>\n",
       "      <td>288</td>\n",
       "      <td>2022-12-29</td>\n",
       "      <td>3</td>\n",
       "      <td>12</td>\n",
       "    </tr>\n",
       "    <tr>\n",
       "      <th>288</th>\n",
       "      <td>1374582</td>\n",
       "      <td>97220301</td>\n",
       "      <td>289</td>\n",
       "      <td>2022-12-29</td>\n",
       "      <td>3</td>\n",
       "      <td>12</td>\n",
       "    </tr>\n",
       "    <tr>\n",
       "      <th>289</th>\n",
       "      <td>1374582</td>\n",
       "      <td>97241171</td>\n",
       "      <td>290</td>\n",
       "      <td>2022-12-29</td>\n",
       "      <td>3</td>\n",
       "      <td>12</td>\n",
       "    </tr>\n",
       "    <tr>\n",
       "      <th>290</th>\n",
       "      <td>1374582</td>\n",
       "      <td>98542641</td>\n",
       "      <td>291</td>\n",
       "      <td>2022-12-29</td>\n",
       "      <td>3</td>\n",
       "      <td>12</td>\n",
       "    </tr>\n",
       "    <tr>\n",
       "      <th>291</th>\n",
       "      <td>1374582</td>\n",
       "      <td>100736375</td>\n",
       "      <td>292</td>\n",
       "      <td>2022-12-30</td>\n",
       "      <td>4</td>\n",
       "      <td>12</td>\n",
       "    </tr>\n",
       "  </tbody>\n",
       "</table>\n",
       "<p>215165690 rows × 6 columns</p>\n",
       "</div>"
      ],
      "text/plain": [
       "     user_id   track_id  track_seq started_at  day_of_week  month\n",
       "0          0      99262          1 2022-07-17            6      7\n",
       "1          0     589498          2 2022-07-19            1      7\n",
       "2          0     590262          3 2022-07-21            3      7\n",
       "3          0     590303          4 2022-07-22            4      7\n",
       "4          0     590692          5 2022-07-22            4      7\n",
       "..       ...        ...        ...        ...          ...    ...\n",
       "287  1374582   95514767        288 2022-12-29            3     12\n",
       "288  1374582   97220301        289 2022-12-29            3     12\n",
       "289  1374582   97241171        290 2022-12-29            3     12\n",
       "290  1374582   98542641        291 2022-12-29            3     12\n",
       "291  1374582  100736375        292 2022-12-30            4     12\n",
       "\n",
       "[215165690 rows x 6 columns]"
      ]
     },
     "execution_count": 17,
     "metadata": {},
     "output_type": "execute_result"
    }
   ],
   "source": [
    "interactions_clean"
   ]
  },
  {
   "cell_type": "markdown",
   "id": "4d1be653-eed8-4fa0-a9c5-3811b080d71d",
   "metadata": {},
   "source": [
    "# Сохранение данных"
   ]
  },
  {
   "cell_type": "code",
   "execution_count": 18,
   "id": "10aa7d24-f738-4914-bbae-27578a2ed254",
   "metadata": {},
   "outputs": [
    {
     "name": "stdout",
     "output_type": "stream",
     "text": [
      "Размер: 951655 записей\n",
      "Имена столбцов: ['track_id', 'track_name', 'album_ids', 'album_names', 'artist_ids', 'artist_names', 'genre_ids', 'genre_names']\n"
     ]
    }
   ],
   "source": [
    "schema = pa.Schema.from_pandas(items_df)\n",
    "with pq.ParquetWriter('items.parquet', schema=schema, compression='SNAPPY') as writer:\n",
    "    table = pa.Table.from_pandas(items_df, schema=schema)\n",
    "    writer.write_table(table)\n",
    "print(f\"Размер: {len(items_df)} записей\")\n",
    "print(f\"Имена столбцов: {items_df.columns.tolist()}\")"
   ]
  },
  {
   "cell_type": "code",
   "execution_count": 19,
   "id": "e3c1e991-5ecb-45b0-824a-d73f0fcafc9e",
   "metadata": {},
   "outputs": [
    {
     "name": "stdout",
     "output_type": "stream",
     "text": [
      "Размер: 215165690 записей\n",
      "Имена столбцов: ['user_id', 'track_id', 'track_seq', 'started_at', 'day_of_week', 'month']\n"
     ]
    }
   ],
   "source": [
    "schema = pa.Schema.from_pandas(interactions_clean)\n",
    "with pq.ParquetWriter('events.parquet', schema=schema, compression='SNAPPY') as writer:\n",
    "    table = pa.Table.from_pandas(interactions_clean, schema=schema)\n",
    "    writer.write_table(table)\n",
    "print(f\"Размер: {len(interactions_clean)} записей\")\n",
    "print(f\"Имена столбцов: {interactions_clean.columns.tolist()}\")"
   ]
  },
  {
   "cell_type": "markdown",
   "id": "36f1314a-3af3-4faf-a0b1-3045173d1500",
   "metadata": {},
   "source": [
    "Сохраним данные в двух файлах в персональном S3-бакете по пути `recsys/data/`:\n",
    "- `items.parquet` — все данные о музыкальных треках,\n",
    "- `events.parquet` — все данные о взаимодействиях."
   ]
  },
  {
   "cell_type": "code",
   "execution_count": null,
   "id": "2bd7e73e-b751-4390-837d-a4eab9eb9e30",
   "metadata": {},
   "outputs": [
    {
     "name": "stdout",
     "output_type": "stream",
     "text": [
      "Файл успешно сохранен: s3://s3-student-mle-20250228-7a89d0ddfb/recsys/data/items.parquet\n",
      "Файл успешно сохранен: s3://s3-student-mle-20250228-7a89d0ddfb/recsys/data/events.parquet\n"
     ]
    }
   ],
   "source": [
    "import s3fs\n",
    "import pyarrow as pa\n",
    "from dotenv import load_dotenv\n",
    "import os\n",
    "\n",
    "load_dotenv()\n",
    "\n",
    "S3_BUCKET = os.getenv('S3_BUCKET_NAME')\n",
    "AWS_ACCESS_KEY_ID = os.getenv('AWS_ACCESS_KEY_ID')\n",
    "AWS_SECRET_ACCESS_KEY = os.getenv('AWS_SECRET_ACCESS_KEY')\n",
    "\n",
    "s3 = s3fs.S3FileSystem(\n",
    "        key=AWS_ACCESS_KEY_ID,\n",
    "        secret=AWS_SECRET_ACCESS_KEY,\n",
    "        endpoint_url='https://storage.yandexcloud.net',\n",
    "        client_kwargs={'region_name': 'ru-central1'}  # Регион по умолчанию\n",
    ")\n",
    "\n",
    "s3_events_path = 'recsys/data/events.parquet'\n",
    "\n",
    "full_path = f's3://{S3_BUCKET}/{s3_events_path}'\n",
    "table = pa.Table.from_pandas(items_df)\n",
    "        \n",
    "pq.write_table(\n",
    "            table,\n",
    "            full_path,\n",
    "            filesystem=s3,\n",
    "            compression='SNAPPY',\n",
    "            coerce_timestamps='ms',\n",
    "            allow_truncated_timestamps=True\n",
    ")\n",
    "print(f\"Файл успешно сохранен: {full_path}\")\n",
    "\n",
    "\n",
    "s3_events_path = 'recsys/data/events.parquet'\n",
    "\n",
    "full_path = f's3://{S3_BUCKET}/{s3_events_path}'\n",
    "table = pa.Table.from_pandas(interactions_clean)\n",
    "        \n",
    "pq.write_table(\n",
    "            table,\n",
    "            full_path,\n",
    "            filesystem=s3,\n",
    "            compression='SNAPPY',\n",
    "            coerce_timestamps='ms',\n",
    "            allow_truncated_timestamps=True\n",
    ")\n",
    "print(f\"Файл успешно сохранен: {full_path}\")"
   ]
  },
  {
   "cell_type": "markdown",
   "id": "72ecbbed-c560-44d9-9c14-86c7dc76f399",
   "metadata": {},
   "source": [
    "# Очистка памяти"
   ]
  },
  {
   "cell_type": "markdown",
   "id": "b5358ede-ba6e-4c4f-bd73-5b9344f0ba79",
   "metadata": {},
   "source": [
    "Здесь, может понадобится очистка памяти для высвобождения ресурсов для выполнения кода ниже. \n",
    "\n",
    "Приведите соответствующие код, комментарии, например:\n",
    "- код для удаление более ненужных переменных,\n",
    "- комментарий, что следует перезапустить kernel, выполнить такие-то начальные секции и продолжить с этапа 3."
   ]
  },
  {
   "cell_type": "markdown",
   "id": "2ec44101-8b11-4996-a43b-36692ec78317",
   "metadata": {},
   "source": [
    "Необходимо перезапустить ядро и выполнить первую ячейку с импортами"
   ]
  },
  {
   "cell_type": "markdown",
   "id": "708503df-ee89-4cf3-8489-093dc478e2a8",
   "metadata": {},
   "source": [
    "# === ЭТАП 3 ==="
   ]
  },
  {
   "cell_type": "markdown",
   "id": "fd77de22-e10f-4b42-85c1-8fb6f805fe68",
   "metadata": {},
   "source": [
    "# Загрузка данных"
   ]
  },
  {
   "cell_type": "markdown",
   "id": "780a4241-1ecd-4a3e-bbb3-fc2f6ca94f68",
   "metadata": {},
   "source": [
    "Если необходимо, то загружаем items.parquet, events.parquet."
   ]
  },
  {
   "cell_type": "code",
   "execution_count": 1,
   "id": "f4c7a6e2",
   "metadata": {},
   "outputs": [],
   "source": [
    "import pandas as pd\n",
    "import numpy as np\n",
    "import math\n"
   ]
  },
  {
   "cell_type": "code",
   "execution_count": 2,
   "id": "f19fc8a5-bd2c-40d7-864a-ee75aca6d512",
   "metadata": {},
   "outputs": [],
   "source": [
    "items = pd.read_parquet(\"items.parquet\")\n",
    "events = pd.read_parquet(\"events.parquet\")"
   ]
  },
  {
   "cell_type": "code",
   "execution_count": 3,
   "id": "94c4c44a",
   "metadata": {},
   "outputs": [
    {
     "data": {
      "text/html": [
       "<div>\n",
       "<style scoped>\n",
       "    .dataframe tbody tr th:only-of-type {\n",
       "        vertical-align: middle;\n",
       "    }\n",
       "\n",
       "    .dataframe tbody tr th {\n",
       "        vertical-align: top;\n",
       "    }\n",
       "\n",
       "    .dataframe thead th {\n",
       "        text-align: right;\n",
       "    }\n",
       "</style>\n",
       "<table border=\"1\" class=\"dataframe\">\n",
       "  <thead>\n",
       "    <tr style=\"text-align: right;\">\n",
       "      <th></th>\n",
       "      <th>track_id</th>\n",
       "      <th>track_name</th>\n",
       "      <th>album_ids</th>\n",
       "      <th>album_names</th>\n",
       "      <th>artist_ids</th>\n",
       "      <th>artist_names</th>\n",
       "      <th>genre_ids</th>\n",
       "      <th>genre_names</th>\n",
       "    </tr>\n",
       "  </thead>\n",
       "  <tbody>\n",
       "    <tr>\n",
       "      <th>0</th>\n",
       "      <td>26</td>\n",
       "      <td>Complimentary Me</td>\n",
       "      <td>[3, 2490753]</td>\n",
       "      <td>[Taller Children, Taller Children]</td>\n",
       "      <td>[16]</td>\n",
       "      <td>[Elizabeth &amp; the Catapult]</td>\n",
       "      <td>[11, 21]</td>\n",
       "      <td>[pop, folk]</td>\n",
       "    </tr>\n",
       "    <tr>\n",
       "      <th>1</th>\n",
       "      <td>38</td>\n",
       "      <td>Momma's Boy</td>\n",
       "      <td>[3, 2490753]</td>\n",
       "      <td>[Taller Children, Taller Children]</td>\n",
       "      <td>[16]</td>\n",
       "      <td>[Elizabeth &amp; the Catapult]</td>\n",
       "      <td>[11, 21]</td>\n",
       "      <td>[pop, folk]</td>\n",
       "    </tr>\n",
       "    <tr>\n",
       "      <th>2</th>\n",
       "      <td>135</td>\n",
       "      <td>Atticus</td>\n",
       "      <td>[12, 214, 2490809]</td>\n",
       "      <td>[Wild Young Hearts, Wild Young Hearts, Wild Yo...</td>\n",
       "      <td>[84]</td>\n",
       "      <td>[Noisettes]</td>\n",
       "      <td>[11]</td>\n",
       "      <td>[pop]</td>\n",
       "    </tr>\n",
       "    <tr>\n",
       "      <th>3</th>\n",
       "      <td>136</td>\n",
       "      <td>24 Hours</td>\n",
       "      <td>[12, 214, 2490809]</td>\n",
       "      <td>[Wild Young Hearts, Wild Young Hearts, Wild Yo...</td>\n",
       "      <td>[84]</td>\n",
       "      <td>[Noisettes]</td>\n",
       "      <td>[11]</td>\n",
       "      <td>[pop]</td>\n",
       "    </tr>\n",
       "    <tr>\n",
       "      <th>4</th>\n",
       "      <td>138</td>\n",
       "      <td>Don't Upset The Rhythm (Go Baby Go)</td>\n",
       "      <td>[12, 214, 322, 72275, 72292, 91199, 213505, 24...</td>\n",
       "      <td>[Wild Young Hearts, Wild Young Hearts, Don't U...</td>\n",
       "      <td>[84]</td>\n",
       "      <td>[Noisettes]</td>\n",
       "      <td>[11]</td>\n",
       "      <td>[pop]</td>\n",
       "    </tr>\n",
       "  </tbody>\n",
       "</table>\n",
       "</div>"
      ],
      "text/plain": [
       "   track_id                           track_name  \\\n",
       "0        26                     Complimentary Me   \n",
       "1        38                          Momma's Boy   \n",
       "2       135                              Atticus   \n",
       "3       136                             24 Hours   \n",
       "4       138  Don't Upset The Rhythm (Go Baby Go)   \n",
       "\n",
       "                                           album_ids  \\\n",
       "0                                       [3, 2490753]   \n",
       "1                                       [3, 2490753]   \n",
       "2                                 [12, 214, 2490809]   \n",
       "3                                 [12, 214, 2490809]   \n",
       "4  [12, 214, 322, 72275, 72292, 91199, 213505, 24...   \n",
       "\n",
       "                                         album_names artist_ids  \\\n",
       "0                 [Taller Children, Taller Children]       [16]   \n",
       "1                 [Taller Children, Taller Children]       [16]   \n",
       "2  [Wild Young Hearts, Wild Young Hearts, Wild Yo...       [84]   \n",
       "3  [Wild Young Hearts, Wild Young Hearts, Wild Yo...       [84]   \n",
       "4  [Wild Young Hearts, Wild Young Hearts, Don't U...       [84]   \n",
       "\n",
       "                 artist_names genre_ids  genre_names  \n",
       "0  [Elizabeth & the Catapult]  [11, 21]  [pop, folk]  \n",
       "1  [Elizabeth & the Catapult]  [11, 21]  [pop, folk]  \n",
       "2                 [Noisettes]      [11]        [pop]  \n",
       "3                 [Noisettes]      [11]        [pop]  \n",
       "4                 [Noisettes]      [11]        [pop]  "
      ]
     },
     "execution_count": 3,
     "metadata": {},
     "output_type": "execute_result"
    }
   ],
   "source": [
    "items.head()"
   ]
  },
  {
   "cell_type": "code",
   "execution_count": 4,
   "id": "687d2974",
   "metadata": {},
   "outputs": [
    {
     "data": {
      "text/html": [
       "<div>\n",
       "<style scoped>\n",
       "    .dataframe tbody tr th:only-of-type {\n",
       "        vertical-align: middle;\n",
       "    }\n",
       "\n",
       "    .dataframe tbody tr th {\n",
       "        vertical-align: top;\n",
       "    }\n",
       "\n",
       "    .dataframe thead th {\n",
       "        text-align: right;\n",
       "    }\n",
       "</style>\n",
       "<table border=\"1\" class=\"dataframe\">\n",
       "  <thead>\n",
       "    <tr style=\"text-align: right;\">\n",
       "      <th></th>\n",
       "      <th>user_id</th>\n",
       "      <th>track_id</th>\n",
       "      <th>track_seq</th>\n",
       "      <th>started_at</th>\n",
       "      <th>day_of_week</th>\n",
       "      <th>month</th>\n",
       "    </tr>\n",
       "  </thead>\n",
       "  <tbody>\n",
       "    <tr>\n",
       "      <th>0</th>\n",
       "      <td>0</td>\n",
       "      <td>99262</td>\n",
       "      <td>1</td>\n",
       "      <td>2022-07-17</td>\n",
       "      <td>6</td>\n",
       "      <td>7</td>\n",
       "    </tr>\n",
       "    <tr>\n",
       "      <th>1</th>\n",
       "      <td>0</td>\n",
       "      <td>589498</td>\n",
       "      <td>2</td>\n",
       "      <td>2022-07-19</td>\n",
       "      <td>1</td>\n",
       "      <td>7</td>\n",
       "    </tr>\n",
       "    <tr>\n",
       "      <th>2</th>\n",
       "      <td>0</td>\n",
       "      <td>590262</td>\n",
       "      <td>3</td>\n",
       "      <td>2022-07-21</td>\n",
       "      <td>3</td>\n",
       "      <td>7</td>\n",
       "    </tr>\n",
       "    <tr>\n",
       "      <th>3</th>\n",
       "      <td>0</td>\n",
       "      <td>590303</td>\n",
       "      <td>4</td>\n",
       "      <td>2022-07-22</td>\n",
       "      <td>4</td>\n",
       "      <td>7</td>\n",
       "    </tr>\n",
       "    <tr>\n",
       "      <th>4</th>\n",
       "      <td>0</td>\n",
       "      <td>590692</td>\n",
       "      <td>5</td>\n",
       "      <td>2022-07-22</td>\n",
       "      <td>4</td>\n",
       "      <td>7</td>\n",
       "    </tr>\n",
       "  </tbody>\n",
       "</table>\n",
       "</div>"
      ],
      "text/plain": [
       "   user_id  track_id  track_seq started_at  day_of_week  month\n",
       "0        0     99262          1 2022-07-17            6      7\n",
       "1        0    589498          2 2022-07-19            1      7\n",
       "2        0    590262          3 2022-07-21            3      7\n",
       "3        0    590303          4 2022-07-22            4      7\n",
       "4        0    590692          5 2022-07-22            4      7"
      ]
     },
     "execution_count": 4,
     "metadata": {},
     "output_type": "execute_result"
    }
   ],
   "source": [
    "events.head()"
   ]
  },
  {
   "cell_type": "markdown",
   "id": "fbd5f6e0-54e7-4428-8678-eabce505d82c",
   "metadata": {},
   "source": [
    "Разбиваем данные на тренировочную, тестовую выборки."
   ]
  },
  {
   "cell_type": "code",
   "execution_count": 3,
   "id": "00c2dfa5-d8a2-47d1-922e-6eefee2c62d1",
   "metadata": {},
   "outputs": [],
   "source": [
    "train_events = events[events['started_at'] < '2022-12-16']\n",
    "test_events = events[events['started_at'] >= '2022-12-16']\n",
    "\n",
    "users_train = set(train_events['user_id'].unique())\n",
    "users_test = set(test_events['user_id'].unique())\n",
    "cold_users = users_test - users_train"
   ]
  },
  {
   "cell_type": "markdown",
   "id": "9131c7e6-8852-4556-b510-51f7253cc299",
   "metadata": {},
   "source": [
    "# Топ популярных"
   ]
  },
  {
   "cell_type": "markdown",
   "id": "dd70d43a-88cc-4719-b291-feaed7136f30",
   "metadata": {},
   "source": [
    "Рассчитаем рекомендации как топ популярных."
   ]
  },
  {
   "cell_type": "code",
   "execution_count": 7,
   "id": "7690c86f-7aa9-46ed-bba5-2c837626411e",
   "metadata": {},
   "outputs": [
    {
     "name": "stdout",
     "output_type": "stream",
     "text": [
      "Метрики для холодных пользователей:\n",
      "Recall@100: 0.0610\n",
      "Precision@100: 0.0198\n",
      "Coverage: 0.000105\n",
      "Novelty: 11.7158\n"
     ]
    }
   ],
   "source": [
    "top_tracks = train_events['track_id'].value_counts().head(100).index.tolist()\n",
    "cold_test_events = test_events[test_events['user_id'].isin(cold_users)]\n",
    "\n",
    "# 2. Recall@10 и Precision@10 для холодных пользователей\n",
    "if not cold_test_events.empty:\n",
    "    # Группировка по пользователям\n",
    "    cold_user_groups = cold_test_events.groupby('user_id')['track_id'].apply(set).reset_index()\n",
    "    cold_user_groups.columns = ['user_id', 'actual_items']\n",
    "    \n",
    "    # Добавление рекомендаций\n",
    "    cold_user_groups['recommended'] = [set(top_tracks)] * len(cold_user_groups)\n",
    "    \n",
    "    # Расчет попаданий\n",
    "    cold_user_groups['hits'] = cold_user_groups.apply(\n",
    "        lambda row: row['actual_items'] & row['recommended'], axis=1\n",
    "    )\n",
    "    cold_user_groups['hit_count'] = cold_user_groups['hits'].apply(len)\n",
    "    \n",
    "    # Расчет метрик\n",
    "    cold_user_groups['recall'] = cold_user_groups.apply(\n",
    "        lambda row: row['hit_count'] / len(row['actual_items']) if len(row['actual_items']) > 0 else 0, \n",
    "        axis=1\n",
    "    )\n",
    "    cold_user_groups['precision'] = cold_user_groups['hit_count'] / len(top_tracks)\n",
    "    \n",
    "    # Усреднение\n",
    "    recall_avg = cold_user_groups['recall'].mean()\n",
    "    precision_avg = cold_user_groups['precision'].mean()\n",
    "else:\n",
    "    recall_avg = 0.0\n",
    "    precision_avg = 0.0\n",
    "\n",
    "# 3. Coverage (покрытие) - глобальная метрика\n",
    "total_tracks = items['track_id'].nunique()\n",
    "coverage = len(set(top_tracks)) / total_tracks\n",
    "\n",
    "# 4. Novelty (новизна) - глобальная метрика\n",
    "train_track_counts = train_events['track_id'].value_counts()\n",
    "total_plays = train_track_counts.sum()\n",
    "\n",
    "novelty_scores = []\n",
    "for track_id in top_tracks:\n",
    "    play_count = train_track_counts.get(track_id, 1)\n",
    "    p = play_count / total_plays\n",
    "    novelty_scores.append(-math.log2(p))\n",
    "\n",
    "novelty = np.mean(novelty_scores)\n",
    "\n",
    "print(\"Метрики для холодных пользователей:\")\n",
    "print(f\"Recall@100: {recall_avg:.4f}\")\n",
    "print(f\"Precision@100: {precision_avg:.4f}\")\n",
    "print(f\"Coverage: {coverage:.6f}\")\n",
    "print(f\"Novelty: {novelty:.4f}\")"
   ]
  },
  {
   "cell_type": "code",
   "execution_count": null,
   "id": "30878e6f",
   "metadata": {},
   "outputs": [],
   "source": [
    "import s3fs\n",
    "import pyarrow as pa\n",
    "from dotenv import load_dotenv\n",
    "import os\n",
    "\n",
    "load_dotenv()\n",
    "\n",
    "S3_BUCKET = os.getenv('S3_BUCKET_NAME')\n",
    "AWS_ACCESS_KEY_ID = os.getenv('AWS_ACCESS_KEY_ID')\n",
    "AWS_SECRET_ACCESS_KEY = os.getenv('AWS_SECRET_ACCESS_KEY')\n",
    "\n",
    "s3 = s3fs.S3FileSystem(\n",
    "        key=AWS_ACCESS_KEY_ID,\n",
    "        secret=AWS_SECRET_ACCESS_KEY,\n",
    "        endpoint_url='https://storage.yandexcloud.net',\n",
    "        client_kwargs={'region_name': 'ru-central1'}  # Регион по умолчанию\n",
    ")\n",
    "\n",
    "s3_path = 'recsys/recommendations/top_popular.parquet'\n",
    "\n",
    "full_path = f's3://{S3_BUCKET}/{s3_path}'\n",
    "table = pa.Table.from_pandas(items_df)\n",
    "        \n",
    "pq.write_table(\n",
    "            table,\n",
    "            full_path,\n",
    "            filesystem=s3,\n",
    "            compression='SNAPPY',\n",
    "            coerce_timestamps='ms',\n",
    "            allow_truncated_timestamps=True\n",
    ")\n",
    "print(f\"Файл успешно сохранен: {full_path}\")"
   ]
  },
  {
   "cell_type": "markdown",
   "id": "2ad231f2-6158-421a-b7fa-01d8bc3ed572",
   "metadata": {},
   "source": [
    "# Персональные"
   ]
  },
  {
   "cell_type": "markdown",
   "id": "86159460-cd9d-4b63-8248-604ea3c9aebf",
   "metadata": {},
   "source": [
    "Рассчитаем персональные рекомендации."
   ]
  },
  {
   "cell_type": "code",
   "execution_count": 1,
   "id": "053ab2d4-d660-49f6-a9a2-35ff742fab45",
   "metadata": {},
   "outputs": [
    {
     "name": "stderr",
     "output_type": "stream",
     "text": [
      "/home/mle-user/mle_projects/mle-project-sprint-4-v001/env_recsys_start/lib/python3.10/site-packages/tqdm/auto.py:21: TqdmWarning: IProgress not found. Please update jupyter and ipywidgets. See https://ipywidgets.readthedocs.io/en/stable/user_install.html\n",
      "  from .autonotebook import tqdm as notebook_tqdm\n"
     ]
    }
   ],
   "source": [
    "import pandas as pd\n",
    "import numpy as np\n",
    "from scipy.sparse import coo_matrix, csr_matrix\n",
    "from implicit.als import AlternatingLeastSquares\n",
    "# from implicit.evaluation import precision_at_k, recall_at_k\n",
    "from collections import defaultdict"
   ]
  },
  {
   "cell_type": "code",
   "execution_count": 2,
   "id": "c595303e-97e7-4b8a-bc12-c7ace8c136ae",
   "metadata": {},
   "outputs": [],
   "source": [
    "from datetime import datetime\n",
    "\n",
    "SAMPLE_SIZE = 1000000\n",
    "\n",
    "events = pd.read_parquet('events.parquet')\n",
    "items = pd.read_parquet('items.parquet')\n",
    "\n",
    "events = events.sample(min(SAMPLE_SIZE, len(events)), random_state=42)\n",
    "items = items[items['track_id'].isin(events['track_id'])]\n",
    "\n",
    "events['started_at'] = pd.to_datetime(events['started_at'])\n",
    "\n",
    "# Определяем граничную дату\n",
    "split_date = datetime(2022, 12, 16)\n",
    "\n",
    "# Разбиваем данные\n",
    "train_events = events[events['started_at'] < split_date]\n",
    "test_events = events[events['started_at'] >= split_date]\n",
    "# Создание словарей для идентификаторов"
   ]
  },
  {
   "cell_type": "code",
   "execution_count": 3,
   "id": "03084b93",
   "metadata": {},
   "outputs": [
    {
     "name": "stdout",
     "output_type": "stream",
     "text": [
      "Тренировочная выборка: 936981 записей\n",
      "Тестовая выборка: 63019 записей\n",
      "Общее количество: 1000000 записей\n"
     ]
    }
   ],
   "source": [
    "print(f\"Тренировочная выборка: {len(train_events)} записей\")\n",
    "print(f\"Тестовая выборка: {len(test_events)} записей\")\n",
    "print(f\"Общее количество: {len(events)} записей\")\n",
    "\n",
    "# Проверяем что нет пересечений по датам\n",
    "assert train_events['started_at'].max() < test_events['started_at'].min(), \"Есть пересечение дат!\""
   ]
  },
  {
   "cell_type": "code",
   "execution_count": 4,
   "id": "2ae51b33",
   "metadata": {},
   "outputs": [
    {
     "name": "stdout",
     "output_type": "stream",
     "text": [
      "Предупреждение: 26820 пользователей есть в тесте, но нет в трейне\n",
      "Предупреждение: 5749 треков есть в тесте, но нет в трейне\n"
     ]
    }
   ],
   "source": [
    "test_users = set(test_events['user_id'].unique())\n",
    "train_users = set(train_events['user_id'].unique())\n",
    "missing_users = test_users - train_users\n",
    "\n",
    "if missing_users:\n",
    "    print(f\"Предупреждение: {len(missing_users)} пользователей есть в тесте, но нет в трейне\")\n",
    "    # Можно либо удалить этих пользователей из теста, либо добавить их в трейн\n",
    "    test_events = test_events[~test_events['user_id'].isin(missing_users)]\n",
    "\n",
    "# Аналогично для треков\n",
    "test_tracks = set(test_events['track_id'].unique())\n",
    "train_tracks = set(train_events['track_id'].unique())\n",
    "missing_tracks = test_tracks - train_tracks\n",
    "\n",
    "if missing_tracks:\n",
    "    print(f\"Предупреждение: {len(missing_tracks)} треков есть в тесте, но нет в трейне\")\n",
    "    test_events = test_events[~test_events['track_id'].isin(missing_tracks)]"
   ]
  },
  {
   "cell_type": "code",
   "execution_count": 5,
   "id": "a7511838",
   "metadata": {},
   "outputs": [
    {
     "name": "stdout",
     "output_type": "stream",
     "text": [
      "Тренировочная выборка: 936981 записей\n",
      "Тестовая выборка: 27222 записей\n",
      "Общее количество: 1000000 записей\n"
     ]
    }
   ],
   "source": [
    "print(f\"Тренировочная выборка: {len(train_events)} записей\")\n",
    "print(f\"Тестовая выборка: {len(test_events)} записей\")\n",
    "print(f\"Общее количество: {len(events)} записей\")\n"
   ]
  },
  {
   "cell_type": "code",
   "execution_count": 6,
   "id": "8ab98b48",
   "metadata": {},
   "outputs": [],
   "source": [
    "valid_tracks = set(train_events['track_id'].unique())\n",
    "items = items[items['track_id'].isin(valid_tracks)]\n",
    "\n",
    "# Теперь можно создавать матрицы взаимодействий\n",
    "def prepare_matrix(events_df):\n",
    "    # Создаем маппинги только на основе трейна\n",
    "    user_ids = sorted(train_events['user_id'].unique())\n",
    "    track_ids = sorted(train_events['track_id'].unique())\n",
    "    \n",
    "    user_id_map = {id: idx for idx, id in enumerate(user_ids)}\n",
    "    track_id_map = {id: idx for idx, id in enumerate(track_ids)}\n",
    "    \n",
    "    # Фильтруем события чтобы оставить только известных пользователей и треки\n",
    "    events_df = events_df[\n",
    "        events_df['user_id'].isin(user_id_map) & \n",
    "        events_df['track_id'].isin(track_id_map)\n",
    "    ]\n",
    "    \n",
    "    rows = events_df['user_id'].map(user_id_map)\n",
    "    cols = events_df['track_id'].map(track_id_map)\n",
    "    data = np.ones(len(events_df))\n",
    "    \n",
    "    return coo_matrix(\n",
    "        (data, (rows, cols)),\n",
    "        shape=(len(user_ids), len(track_ids))\n",
    "    ).tocsr()\n",
    "\n",
    "train_matrix = prepare_matrix(train_events)\n",
    "test_matrix = prepare_matrix(test_events)\n",
    "del(events)\n",
    "del(items)\n",
    "# del(train_events)\n",
    "del(test_events)"
   ]
  },
  {
   "cell_type": "code",
   "execution_count": 9,
   "id": "2d8c9cc1-896f-4854-9461-ee07e28cb41b",
   "metadata": {},
   "outputs": [
    {
     "name": "stderr",
     "output_type": "stream",
     "text": [
      "  0%|          | 0/50 [00:00<?, ?it/s]"
     ]
    },
    {
     "name": "stderr",
     "output_type": "stream",
     "text": [
      "100%|██████████| 50/50 [01:14<00:00,  1.50s/it]\n"
     ]
    }
   ],
   "source": [
    "model = AlternatingLeastSquares(factors=50, iterations=50, regularization=0.01, random_state=42)\n",
    "\n",
    "model.fit(train_matrix)"
   ]
  },
  {
   "cell_type": "code",
   "execution_count": 13,
   "id": "db9dc33b",
   "metadata": {},
   "outputs": [
    {
     "data": {
      "text/plain": [
       "<Compressed Sparse Row sparse matrix of dtype 'float64'\n",
       "\twith 936981 stored elements and shape (428666, 203210)>"
      ]
     },
     "execution_count": 13,
     "metadata": {},
     "output_type": "execute_result"
    }
   ],
   "source": [
    "train_matrix"
   ]
  },
  {
   "cell_type": "code",
   "execution_count": 14,
   "id": "802b97c9-05ae-4c0f-9bdf-ebeb8862774a",
   "metadata": {},
   "outputs": [
    {
     "name": "stdout",
     "output_type": "stream",
     "text": [
      "\n",
      "Оценка модели...\n"
     ]
    },
    {
     "name": "stderr",
     "output_type": "stream",
     "text": [
      "Оценка: 100%|██████████| 428666/428666 [03:35<00:00, 1988.41it/s]"
     ]
    },
    {
     "name": "stdout",
     "output_type": "stream",
     "text": [
      "\n",
      "Результаты:\n",
      "Precision@10: 0.0001\n",
      "Recall@10: 0.0060\n",
      "Coverage: 0.0056\n",
      "Novelty: 13.3535\n",
      "Оценено на 23871 пользователях\n"
     ]
    },
    {
     "name": "stderr",
     "output_type": "stream",
     "text": [
      "\n"
     ]
    }
   ],
   "source": [
    "from tqdm import tqdm\n",
    "\n",
    "user_ids = sorted(train_events['user_id'].unique())\n",
    "track_ids = sorted(train_events['track_id'].unique())\n",
    "\n",
    "user_id_map = {id: idx for idx, id in enumerate(user_ids)}\n",
    "track_id_map = {id: idx for idx, id in enumerate(track_ids)}\n",
    "reverse_track_map = {idx: id for id, idx in track_id_map.items()}\n",
    "\n",
    "# del(train_events)\n",
    "\n",
    "K=10\n",
    "\n",
    "def evaluate_model(model, train_matrix, test_matrix, k=50):\n",
    "    precisions = []\n",
    "    recalls = []\n",
    "    recommended_items = set()\n",
    "    item_popularity = defaultdict(int)\n",
    "    \n",
    "    # Считаем популярность треков в трейне\n",
    "    train_counts = np.array(train_matrix.sum(axis=0)).flatten()\n",
    "    \n",
    "    for user_idx in tqdm(range(train_matrix.shape[0]), desc=\"Оценка\"):\n",
    "        # Пропускаем пользователей без тестовых данных\n",
    "        if test_matrix[user_idx].sum() == 0:\n",
    "            continue\n",
    "            \n",
    "        # Получаем рекомендации\n",
    "        recs, _ = model.recommend(user_idx, train_matrix[user_idx], N=k)\n",
    "        recommended = [reverse_track_map[i] for i in recs if i in reverse_track_map]\n",
    "        \n",
    "        # Получаем тестовые треки\n",
    "        _, test_cols = test_matrix[user_idx].nonzero()\n",
    "        test_items = {reverse_track_map[i] for i in test_cols if i in reverse_track_map}\n",
    "        \n",
    "        # Расчет Precision и Recall\n",
    "        relevant = set(recommended) & test_items\n",
    "        precisions.append(len(relevant) / k)\n",
    "        recalls.append(len(relevant) / len(test_items) if test_items else 0)\n",
    "        \n",
    "        # Для Coverage и Novelty\n",
    "        for track in recommended:\n",
    "            recommended_items.add(track)\n",
    "            item_popularity[track] += 1\n",
    "    \n",
    "    # Coverage\n",
    "    coverage = len(recommended_items) / len(track_ids)\n",
    "    \n",
    "    # Novelty (средняя энтропия популярности)\n",
    "    popularities = [train_counts[track_id_map[track]] for track in recommended_items]\n",
    "    novelty = -np.mean(np.log2(np.array(popularities) / train_counts.sum() + 1e-12))\n",
    "    \n",
    "    return {\n",
    "        'precision': np.mean(precisions),\n",
    "        'recall': np.mean(recalls),\n",
    "        'coverage': coverage,\n",
    "        'novelty': novelty,\n",
    "        'num_users': len(precisions)\n",
    "    }\n",
    "\n",
    "# Оценка модели\n",
    "print(\"\\nОценка модели...\")\n",
    "metrics = evaluate_model(model, train_matrix, test_matrix)\n",
    "\n",
    "print(\"\\nРезультаты:\")\n",
    "print(f\"Precision@{K}: {metrics['precision']:.4f}\")\n",
    "print(f\"Recall@{K}: {metrics['recall']:.4f}\")\n",
    "print(f\"Coverage: {metrics['coverage']:.4f}\")\n",
    "print(f\"Novelty: {metrics['novelty']:.4f}\")\n",
    "print(f\"Оценено на {metrics['num_users']} пользователях\")"
   ]
  },
  {
   "cell_type": "markdown",
   "id": "5f09dc7e-7c91-4355-860a-b9cfb9f33f15",
   "metadata": {},
   "source": [
    "# Похожие"
   ]
  },
  {
   "cell_type": "markdown",
   "id": "1dfcb683-b440-40a8-9975-894156a53872",
   "metadata": {},
   "source": [
    "Рассчитаем похожие, они позже пригодятся для онлайн-рекомендаций."
   ]
  },
  {
   "cell_type": "code",
   "execution_count": 1,
   "id": "cf8688df",
   "metadata": {},
   "outputs": [
    {
     "name": "stderr",
     "output_type": "stream",
     "text": [
      "/home/mle-user/mle_projects/mle-project-sprint-4-v001/env_recsys_start/lib/python3.10/site-packages/tqdm/auto.py:21: TqdmWarning: IProgress not found. Please update jupyter and ipywidgets. See https://ipywidgets.readthedocs.io/en/stable/user_install.html\n",
      "  from .autonotebook import tqdm as notebook_tqdm\n"
     ]
    }
   ],
   "source": [
    "import pandas as pd\n",
    "import numpy as np\n",
    "import scipy.sparse as sp\n",
    "from scipy.sparse import coo_matrix\n",
    "from implicit.als import AlternatingLeastSquares"
   ]
  },
  {
   "cell_type": "code",
   "execution_count": 2,
   "id": "a75d07ee-4b12-4ce5-aa85-e45cb7a7a4f0",
   "metadata": {},
   "outputs": [],
   "source": [
    "items = pd.read_parquet(\"items.parquet\")\n",
    "events = pd.read_parquet(\"events.parquet\")\n",
    "\n",
    "valid_tracks = items['track_id'].unique()\n",
    "events = events[events['track_id'].isin(valid_tracks)]\n",
    "\n",
    "# Создание маппингов\n",
    "user_to_idx = {user_id: idx for idx, user_id in enumerate(events['user_id'].unique())}\n",
    "track_to_idx = {track_id: idx for idx, track_id in enumerate(events['track_id'].unique())}\n",
    "idx_to_track = {idx: track_id for track_id, idx in track_to_idx.items()}"
   ]
  },
  {
   "cell_type": "code",
   "execution_count": 3,
   "id": "e870c94d",
   "metadata": {},
   "outputs": [],
   "source": [
    "def prepare_matrix(events_df):\n",
    "    # Создаем маппинги только на основе трейна\n",
    "    user_ids = sorted(events_df['user_id'].unique())\n",
    "    track_ids = sorted(events_df['track_id'].unique())\n",
    "    \n",
    "    user_id_map = {id: idx for idx, id in enumerate(user_ids)}\n",
    "    track_id_map = {id: idx for idx, id in enumerate(track_ids)}\n",
    "    \n",
    "    # Фильтруем события чтобы оставить только известных пользователей и треки\n",
    "    events_df = events_df[\n",
    "        events_df['user_id'].isin(user_id_map) & \n",
    "        events_df['track_id'].isin(track_id_map)\n",
    "    ]\n",
    "    \n",
    "    rows = events_df['user_id'].map(user_id_map)\n",
    "    cols = events_df['track_id'].map(track_id_map)\n",
    "    data = np.ones(len(events_df))\n",
    "    \n",
    "    return coo_matrix(\n",
    "        (data, (rows, cols)),\n",
    "        shape=(len(user_ids), len(track_ids))\n",
    "    ).tocsr()"
   ]
  },
  {
   "cell_type": "code",
   "execution_count": 4,
   "id": "ce370904-4c49-4152-8706-416074ea9b9a",
   "metadata": {},
   "outputs": [],
   "source": [
    "user_indices = events['user_id'].map(user_to_idx)\n",
    "track_indices = events['track_id'].map(track_to_idx)\n",
    "interactions = prepare_matrix(events)"
   ]
  },
  {
   "cell_type": "code",
   "execution_count": 6,
   "id": "5ad8b18e",
   "metadata": {},
   "outputs": [
    {
     "name": "stderr",
     "output_type": "stream",
     "text": [
      "100%|██████████| 10/10 [09:22<00:00, 56.23s/it]\n"
     ]
    }
   ],
   "source": [
    "model = AlternatingLeastSquares(factors=50, iterations=10, regularization=0.01, random_state=42)\n",
    "\n",
    "model.fit(interactions * 20)"
   ]
  },
  {
   "cell_type": "code",
   "execution_count": 8,
   "id": "d34a5726",
   "metadata": {},
   "outputs": [
    {
     "name": "stderr",
     "output_type": "stream",
     "text": [
      "/home/mle-user/mle_projects/mle-project-sprint-4-v001/env_recsys_start/lib/python3.10/site-packages/implicit/utils.py:164: ParameterWarning: Method expects CSR input, and was passed coo_matrix instead. Converting to CSR took 2.389350652694702 seconds\n",
      "  warnings.warn(\n",
      "100%|██████████| 50/50 [00:02<00:00, 24.42it/s]\n"
     ]
    }
   ],
   "source": [
    "from implicit.nearest_neighbours import CosineRecommender\n",
    "recommender = CosineRecommender()\n",
    "recommender.fit(model.item_factors)"
   ]
  },
  {
   "cell_type": "code",
   "execution_count": 9,
   "id": "d1c23e7c",
   "metadata": {},
   "outputs": [],
   "source": [
    "similar_tracks = []\n",
    "for idx in range(len(track_to_idx)):\n",
    "    # Получаем 11 элементов (включая себя)\n",
    "    similar, scores = recommender.similar_items(idx, N=11)\n",
    "    # Пропускаем первый элемент (сам трек)\n",
    "    for sim_idx, score in zip(similar[1:], scores[1:]):\n",
    "        similar_tracks.append({\n",
    "            'track_id': idx_to_track[idx],\n",
    "            'similar_track_id': idx_to_track[sim_idx],\n",
    "            'similarity': score\n",
    "        })\n",
    "\n",
    "# Создаем DataFrame\n",
    "similar_df = pd.DataFrame(similar_tracks)"
   ]
  },
  {
   "cell_type": "code",
   "execution_count": 10,
   "id": "e4f35dd0",
   "metadata": {},
   "outputs": [
    {
     "name": "stdout",
     "output_type": "stream",
     "text": [
      "     track_id      original_track  similar_track_id        similar_track  \\\n",
      "0       99262        Bad Bad Boys          20232119  Не добро пожаловать   \n",
      "1      589498        Чао, бамбино          20232119  Не добро пожаловать   \n",
      "2      590262         Бомбей буги          20232119  Не добро пожаловать   \n",
      "3      590692  Великий инквизитор          20232119  Не добро пожаловать   \n",
      "4      590803     Любовь остаётся          20232119  Не добро пожаловать   \n",
      "..        ...                 ...               ...                  ...   \n",
      "495  43410123    Танцуй, Рублёвка          15769661           I See Fire   \n",
      "496    108208           Я не знаю           1750835     Cursed by Beauty   \n",
      "497    733739            Столыпин           1750835     Cursed by Beauty   \n",
      "498  28222115             Пароход           1750835     Cursed by Beauty   \n",
      "499  34703879        Время пришло           1750835     Cursed by Beauty   \n",
      "\n",
      "     similarity  \n",
      "0      0.316578  \n",
      "1      0.323176  \n",
      "2      0.299050  \n",
      "3      0.312591  \n",
      "4      0.218120  \n",
      "..          ...  \n",
      "495    0.215185  \n",
      "496    0.113094  \n",
      "497    0.195143  \n",
      "498    0.219805  \n",
      "499    0.159564  \n",
      "\n",
      "[500 rows x 5 columns]\n"
     ]
    }
   ],
   "source": [
    "result_df = similar_df.merge(\n",
    "    items[['track_id', 'track_name']],\n",
    "    on='track_id'\n",
    ").merge(\n",
    "    items[['track_id', 'track_name']],\n",
    "    left_on='similar_track_id',\n",
    "    right_on='track_id',\n",
    "    suffixes=('', '_similar')\n",
    ").drop(columns=['track_id_similar']).rename(columns={\n",
    "    'track_name': 'original_track',\n",
    "    'track_name_similar': 'similar_track'\n",
    "})\n",
    "\n",
    "print(result_df[['track_id', 'original_track', 'similar_track_id', 'similar_track', 'similarity']])"
   ]
  },
  {
   "cell_type": "code",
   "execution_count": 13,
   "id": "9ca28b7c",
   "metadata": {},
   "outputs": [
    {
     "data": {
      "text/plain": [
       "951655"
      ]
     },
     "execution_count": 13,
     "metadata": {},
     "output_type": "execute_result"
    }
   ],
   "source": [
    "len(track_to_idx)"
   ]
  },
  {
   "cell_type": "markdown",
   "id": "0087a3e7-ca9f-42cd-944c-944222c1baef",
   "metadata": {},
   "source": [
    "# Построение признаков"
   ]
  },
  {
   "cell_type": "markdown",
   "id": "e82a32e1-b90b-4eaf-9439-fc8deab9f34b",
   "metadata": {},
   "source": [
    "Построим три признака, можно больше, для ранжирующей модели."
   ]
  },
  {
   "cell_type": "code",
   "execution_count": null,
   "id": "05b4ae84-406a-44a4-abec-4f80f93e3004",
   "metadata": {},
   "outputs": [],
   "source": []
  },
  {
   "cell_type": "code",
   "execution_count": null,
   "id": "00f84c35-f544-4c3d-ad53-9b1d2b684c75",
   "metadata": {},
   "outputs": [],
   "source": []
  },
  {
   "cell_type": "markdown",
   "id": "47bcf88d-b236-46f0-a6f3-38ddd64895fe",
   "metadata": {},
   "source": [
    "# Ранжирование рекомендаций"
   ]
  },
  {
   "cell_type": "markdown",
   "id": "e8cd8223-3418-4493-8c87-1f76286ebda0",
   "metadata": {},
   "source": [
    "Построим ранжирующую модель, чтобы сделать рекомендации более точными. Отранжируем рекомендации."
   ]
  },
  {
   "cell_type": "code",
   "execution_count": null,
   "id": "79f1dd92-32a9-463d-827e-8bb9ee5bbb54",
   "metadata": {},
   "outputs": [],
   "source": []
  },
  {
   "cell_type": "code",
   "execution_count": null,
   "id": "6dbe4db4-1ac5-44da-a13c-8e7f9768ab73",
   "metadata": {},
   "outputs": [],
   "source": []
  },
  {
   "cell_type": "markdown",
   "id": "b3c84071-45b5-4a15-a683-e0ab034a3128",
   "metadata": {},
   "source": [
    "# Оценка качества"
   ]
  },
  {
   "cell_type": "markdown",
   "id": "1b107fe4-554e-42b1-87d9-c435a52bb77a",
   "metadata": {},
   "source": [
    "Проверим оценку качества трёх типов рекомендаций: \n",
    "\n",
    "- топ популярных,\n",
    "- персональных, полученных при помощи ALS,\n",
    "- итоговых\n",
    "  \n",
    "по четырем метрикам: recall, precision, coverage, novelty."
   ]
  },
  {
   "cell_type": "code",
   "execution_count": null,
   "id": "94d6f388-aecb-443e-8647-14014e932d4d",
   "metadata": {},
   "outputs": [],
   "source": []
  },
  {
   "cell_type": "code",
   "execution_count": null,
   "id": "26df411f-14c1-4848-8797-f37afe449cc6",
   "metadata": {},
   "outputs": [],
   "source": []
  },
  {
   "cell_type": "markdown",
   "id": "f1c8d38c-32b0-46a4-96f0-cd01dac708bc",
   "metadata": {},
   "source": [
    "# === Выводы, метрики ==="
   ]
  },
  {
   "cell_type": "markdown",
   "id": "f7d7d5d8-7d1e-4fdf-a6cd-83e5ce92c684",
   "metadata": {},
   "source": [
    "Основные выводы при работе над расчётом рекомендаций, рассчитанные метрики."
   ]
  },
  {
   "cell_type": "code",
   "execution_count": null,
   "id": "6403097d-db36-46d9-8952-613c9bd51b05",
   "metadata": {},
   "outputs": [],
   "source": []
  },
  {
   "cell_type": "code",
   "execution_count": null,
   "id": "986cfdd5-6f2e-4de6-8666-85804c87d04b",
   "metadata": {},
   "outputs": [],
   "source": []
  }
 ],
 "metadata": {
  "kernelspec": {
   "display_name": "env_recsys_start",
   "language": "python",
   "name": "python3"
  },
  "language_info": {
   "codemirror_mode": {
    "name": "ipython",
    "version": 3
   },
   "file_extension": ".py",
   "mimetype": "text/x-python",
   "name": "python",
   "nbconvert_exporter": "python",
   "pygments_lexer": "ipython3",
   "version": "3.10.12"
  }
 },
 "nbformat": 4,
 "nbformat_minor": 5
}
