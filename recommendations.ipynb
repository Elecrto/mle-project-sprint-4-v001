{
 "cells": [
  {
   "cell_type": "markdown",
   "id": "f4095ae4-7294-4b28-853e-88d235002c97",
   "metadata": {},
   "source": [
    "# Инициализация"
   ]
  },
  {
   "cell_type": "markdown",
   "id": "2f2318d2-9df8-4911-915e-15b725c44f8a",
   "metadata": {},
   "source": [
    "Загружаем библиотеки необходимые для выполнения кода ноутбука."
   ]
  },
  {
   "cell_type": "code",
   "execution_count": null,
   "id": "662d04e7-1b0b-4e4a-9ddf-4526d7fef119",
   "metadata": {},
   "outputs": [],
   "source": [
    "import pandas as pd\n",
    "import numpy as np\n",
    "import matplotlib.pyplot as plt\n",
    "import seaborn as sns\n",
    "import pyarrow as pa\n",
    "import pyarrow.parquet as pq\n"
   ]
  },
  {
   "cell_type": "markdown",
   "id": "bf80fbc5-b660-4fac-8fbb-a5cae77313b3",
   "metadata": {},
   "source": [
    "# === ЭТАП 1 ==="
   ]
  },
  {
   "cell_type": "markdown",
   "id": "5263a8b3-fe99-4204-8a2e-105182792c11",
   "metadata": {},
   "source": [
    "# Загрузка первичных данных"
   ]
  },
  {
   "cell_type": "markdown",
   "id": "1b54a6a5-1656-4e3c-99d1-49dc39451d33",
   "metadata": {},
   "source": [
    "Загружаем первичные данные из файлов:\n",
    "- tracks.parquet\n",
    "- catalog_names.parquet\n",
    "- interactions.parquet"
   ]
  },
  {
   "cell_type": "code",
   "execution_count": null,
   "id": "5d4b8961-3f35-4e58-9d6b-3e2dbd2c4224",
   "metadata": {},
   "outputs": [],
   "source": [
    "tracks = pd.read_parquet(\"tracks.parquet\")\n",
    "catalogs = pd.read_parquet(\"catalog_names.parquet\")\n",
    "interactions = pd.read_parquet(\"interactions.parquet\")"
   ]
  },
  {
   "cell_type": "markdown",
   "id": "e8f2a1f7-a05f-4f39-af90-5f4018aa6f9d",
   "metadata": {},
   "source": [
    "# Обзор данных"
   ]
  },
  {
   "cell_type": "markdown",
   "id": "46a85307-896c-4fac-9fcf-f0dffa90889e",
   "metadata": {},
   "source": [
    "Проверяем данные, есть ли с ними явные проблемы."
   ]
  },
  {
   "cell_type": "code",
   "execution_count": null,
   "id": "c9f8f17e-9b56-4f5a-a463-f694a993effb",
   "metadata": {},
   "outputs": [],
   "source": [
    "tracks.dtypes"
   ]
  },
  {
   "cell_type": "code",
   "execution_count": null,
   "id": "efd2e2eb-3bec-4ce1-87ac-232bab8bc0d0",
   "metadata": {},
   "outputs": [],
   "source": [
    "catalogs.dtypes"
   ]
  },
  {
   "cell_type": "code",
   "execution_count": null,
   "id": "92123835-bb39-49f5-b16b-a73f3af9ef36",
   "metadata": {},
   "outputs": [],
   "source": [
    "interactions.dtypes"
   ]
  },
  {
   "cell_type": "code",
   "execution_count": null,
   "id": "391e364c-de91-4912-bd28-a955cac05f86",
   "metadata": {},
   "outputs": [],
   "source": [
    "print(tracks.isnull().sum())\n",
    "print(catalogs.isnull().sum())\n",
    "print(interactions.isnull().sum())"
   ]
  },
  {
   "cell_type": "code",
   "execution_count": null,
   "id": "6eb99b21-ac68-4a6a-9365-2191255a73fc",
   "metadata": {},
   "outputs": [],
   "source": [
    "#вывод пропусков\n",
    "artists_ref = set(catalogs[catalogs['type'] == 'artist']['id'])\n",
    "albums_ref = set(catalogs[catalogs['type'] == 'album']['id'])\n",
    "genres_ref = set(catalogs[catalogs['type'] == 'genre']['id'])\n",
    "tracks_ref = set(catalogs[catalogs['type'] == 'track']['id'])\n",
    "\n",
    "all_artists = set(np.concatenate(tracks['artists'].values))\n",
    "all_albums = set(np.concatenate(tracks['albums'].values))\n",
    "all_genres = set(np.concatenate(tracks['genres'].values))\n",
    "\n",
    "miss_artists = all_artists - artists_ref\n",
    "miss_albums = all_albums - albums_ref\n",
    "miss_genres = all_genres - genres_ref\n",
    "miss_tracks = set(interactions['track_id'])-set(tracks['track_id'])\n",
    "print(miss_artists)\n",
    "print(miss_albums)\n",
    "print(miss_genres)\n",
    "print(miss_tracks)"
   ]
  },
  {
   "cell_type": "code",
   "execution_count": null,
   "id": "77056b1b-c34f-48ae-b3c5-ec1991c36f70",
   "metadata": {},
   "outputs": [],
   "source": [
    "tracks_clean = tracks[\n",
    "    tracks['artists'].apply(lambda x: all(i in artists_ref for i in x)) &\n",
    "    tracks['albums'].apply(lambda x: all(i in albums_ref for i in x)) &\n",
    "    tracks['genres'].apply(lambda x: all(i in genres_ref for i in x))\n",
    "]"
   ]
  },
  {
   "cell_type": "code",
   "execution_count": null,
   "id": "106505d8-d4d8-4d05-8342-be84982bfeb6",
   "metadata": {},
   "outputs": [],
   "source": [
    "interactions_clean = interactions[interactions['track_id'].isin(tracks_clean['track_id'])]"
   ]
  },
  {
   "cell_type": "markdown",
   "id": "318b573a-9e2d-4808-95db-60cfb8bbdb73",
   "metadata": {
    "editable": true,
    "slideshow": {
     "slide_type": ""
    },
    "tags": []
   },
   "source": [
    "# Выводы"
   ]
  },
  {
   "cell_type": "markdown",
   "id": "caa96e12-36a8-4401-8f11-98627a49ae9d",
   "metadata": {},
   "source": [
    "Приведём выводы по первому знакомству с данными:\n",
    "- есть ли с данными явные проблемы,\n",
    "- какие корректирующие действия (в целом) были предприняты."
   ]
  },
  {
   "cell_type": "code",
   "execution_count": null,
   "id": "f58cd010-c2fa-475f-b7e9-767965cd4f55",
   "metadata": {},
   "outputs": [],
   "source": [
    "print(f\"Оригинальные треки: {len(tracks)}, Очищенные треки: {len(tracks_clean)}\")\n",
    "print(f\"Оригинальные взаимодействия: {len(interactions)}, Очищенные взаимодействия: {len(interactions_clean)}\")\n",
    "print(f\"Отсутствующие артисты: {len(miss_artists)}\")\n",
    "print(f\"Отсутствующие альбомы: {len(miss_albums)}\")\n",
    "print(f\"Отсутствующие жанры: {len(miss_genres)}\")"
   ]
  },
  {
   "cell_type": "markdown",
   "id": "9375e725-e6fb-43f1-a04d-36718b0b6130",
   "metadata": {},
   "source": [
    "Были удалены записи, чьи жанры отсутсвовали в таблице жанров"
   ]
  },
  {
   "cell_type": "markdown",
   "id": "7bc3296b-eba6-4333-a78d-b9304aa87e3d",
   "metadata": {},
   "source": [
    "# === ЭТАП 2 ==="
   ]
  },
  {
   "cell_type": "markdown",
   "id": "68e73960-fd38-4e15-8db0-9a25c35dfd25",
   "metadata": {},
   "source": [
    "# EDA"
   ]
  },
  {
   "cell_type": "markdown",
   "id": "a30e823e-8e0f-4a76-a02e-8d1ba8bf0f8a",
   "metadata": {},
   "source": [
    "Распределение количества прослушанных треков."
   ]
  },
  {
   "cell_type": "code",
   "execution_count": null,
   "id": "9bf5eaba-35f7-4da7-be59-9ab4a34b2423",
   "metadata": {},
   "outputs": [],
   "source": [
    "user_plays = interactions_clean.groupby('user_id').size().reset_index(name='play_count')\n",
    "\n",
    "plt.figure(figsize=(12, 6))\n",
    "plt.hist(user_plays['play_count'], bins=50, log=True)\n",
    "plt.title('Распределение количества прослушиваний на пользователя')\n",
    "plt.xlabel('Количество прослушанных треков')\n",
    "plt.ylabel('Количество пользователей')\n",
    "plt.show()\n",
    "\n",
    "plt.figure(figsize=(12, 6))\n",
    "sns.boxplot(x=user_plays['play_count'])\n",
    "plt.title('boxplot прослушиваний на пользователя')\n",
    "plt.xlabel('Количество прослушанных треков')\n",
    "plt.show()"
   ]
  },
  {
   "cell_type": "markdown",
   "id": "d765519a-18dd-4d30-9e29-cc2d84cacd79",
   "metadata": {},
   "source": [
    "Наиболее популярные треки"
   ]
  },
  {
   "cell_type": "code",
   "execution_count": null,
   "id": "aecaf630-fde0-4860-b84a-42c933a9606e",
   "metadata": {},
   "outputs": [],
   "source": [
    "track_names = catalogs[catalogs['type']=='track'].set_index('id')['name']\n",
    "top_tracks = (\n",
    "    interactions.groupby('track_id')\n",
    "    .size()\n",
    "    .reset_index(name='play_count')\n",
    "    .sort_values('play_count', ascending=False)\n",
    "    .head(10)\n",
    ")\n",
    "\n",
    "top_tracks['track_name'] = top_tracks['track_id'].map(track_names)\n",
    "\n",
    "print(\"Топ-10 популярных треков:\")\n",
    "print(top_tracks[['track_name', 'play_count']])"
   ]
  },
  {
   "cell_type": "markdown",
   "id": "b1c32a5a-d3be-4f96-8dd9-f7860951020c",
   "metadata": {},
   "source": [
    "Наиболее популярные жанры"
   ]
  },
  {
   "cell_type": "code",
   "execution_count": null,
   "id": "1bc50491-9235-4d3c-a6c2-297f7c05a959",
   "metadata": {},
   "outputs": [],
   "source": [
    "genre_names = catalogs[catalogs['type'] == 'genre'].set_index('id')['name']\n",
    "# Создание связи трек-жанр (развертка списков жанров)\n",
    "track_genres = tracks_clean[['track_id', 'genres']].explode('genres')\n",
    "\n",
    "# Соединение с данными прослушиваний\n",
    "genre_plays = (\n",
    "    pd.merge(interactions[['track_id']], track_genres, on='track_id')\n",
    "    .groupby('genres')\n",
    "    .size()\n",
    "    .reset_index(name='play_count')\n",
    "    .sort_values('play_count', ascending=False)\n",
    "    .head(10)\n",
    ")\n",
    "\n",
    "# Добавление названий жанров\n",
    "genre_plays['genre_name'] = genre_plays['genres'].map(genre_names)\n",
    "\n",
    "# Результат\n",
    "print(\"Топ-10 популярных жанров:\")\n",
    "print(genre_plays[['genre_name', 'play_count']])"
   ]
  },
  {
   "cell_type": "markdown",
   "id": "15254e66-e80e-473b-ba24-abebea5ccac7",
   "metadata": {},
   "source": [
    "Треки, которые никто не прослушал"
   ]
  },
  {
   "cell_type": "code",
   "execution_count": null,
   "id": "50bc50c6-2d83-4c7e-97fa-3e7627978438",
   "metadata": {
    "scrolled": true
   },
   "outputs": [],
   "source": [
    "listened_tracks = set(interactions_clean['track_id'])\n",
    "unlistened_tracks = tracks_clean[~tracks_clean['track_id'].isin(listened_tracks)]\n",
    "track_names = catalogs[catalogs['type'] == 'track'].set_index('id')['name']\n",
    "unlistened_tracks['track_name'] = unlistened_tracks['track_id'].map(track_names)\n",
    "print(unlistened_tracks)"
   ]
  },
  {
   "cell_type": "markdown",
   "id": "f14f36e2-3c87-406f-b1e4-a4cc3f2f7776",
   "metadata": {},
   "source": [
    "Все треки хотя бы раз были прослушаны!"
   ]
  },
  {
   "cell_type": "markdown",
   "id": "0d850a07-ef1e-462f-891a-1cf89f2e24ef",
   "metadata": {},
   "source": [
    "# Преобразование данных"
   ]
  },
  {
   "cell_type": "markdown",
   "id": "fabcf8d2-1192-4df5-b20b-fbb84689f57a",
   "metadata": {},
   "source": [
    "Преобразуем данные в формат, более пригодный для дальнейшего использования в расчётах рекомендаций."
   ]
  },
  {
   "cell_type": "code",
   "execution_count": null,
   "id": "a425556a-9382-45ca-a04e-f1981a522126",
   "metadata": {},
   "outputs": [],
   "source": [
    "track_names = catalogs[catalogs['type'] == 'track'].set_index('id')['name']\n",
    "album_names = catalogs[catalogs['type'] == 'album'].set_index('id')['name']\n",
    "artist_names = catalogs[catalogs['type'] == 'artist'].set_index('id')['name']\n",
    "genre_names = catalogs[catalogs['type'] == 'genre'].set_index('id')['name']\n",
    "\n",
    "tracks_clean['track_name'] = tracks_clean['track_id'].map(track_names)\n",
    "tracks_clean['album_names'] = tracks_clean['albums'].apply(\n",
    "    lambda x: [album_names.get(a, 'Unknown') for a in x]\n",
    ")\n",
    "tracks_clean['artist_names'] = tracks_clean['artists'].apply(\n",
    "    lambda x: [artist_names.get(a, 'Unknown') for a in x]\n",
    ")\n",
    "tracks_clean['genre_names'] = tracks_clean['genres'].apply(\n",
    "    lambda x: [genre_names.get(g, 'Unknown') for g in x]\n",
    ")\n",
    "\n",
    "# Формирование финальной таблицы\n",
    "items_df = tracks_clean[[\n",
    "    'track_id', \n",
    "    'track_name',\n",
    "    'albums',\n",
    "    'album_names',\n",
    "    'artists',\n",
    "    'artist_names',\n",
    "    'genres',\n",
    "    'genre_names'\n",
    "]].rename(columns={\n",
    "    'albums': 'album_ids',\n",
    "    'artists': 'artist_ids',\n",
    "    'genres': 'genre_ids'\n",
    "})\n"
   ]
  },
  {
   "cell_type": "code",
   "execution_count": null,
   "id": "edd331d2-7f7e-468d-a232-1afe2cb165bc",
   "metadata": {},
   "outputs": [],
   "source": [
    "interactions_clean['started_at'] = pd.to_datetime(interactions_clean['started_at'])\n",
    "\n",
    "interactions_clean['day_of_week'] = interactions_clean['started_at'].dt.dayofweek\n",
    "interactions_clean['month'] = interactions_clean['started_at'].dt.month"
   ]
  },
  {
   "cell_type": "code",
   "execution_count": null,
   "id": "cfbbb165-5012-40cf-b676-e2589dec5819",
   "metadata": {},
   "outputs": [],
   "source": [
    "interactions_clean"
   ]
  },
  {
   "cell_type": "markdown",
   "id": "4d1be653-eed8-4fa0-a9c5-3811b080d71d",
   "metadata": {},
   "source": [
    "# Сохранение данных"
   ]
  },
  {
   "cell_type": "code",
   "execution_count": null,
   "id": "10aa7d24-f738-4914-bbae-27578a2ed254",
   "metadata": {},
   "outputs": [],
   "source": [
    "schema = pa.Schema.from_pandas(items_df)\n",
    "with pq.ParquetWriter('items.parquet', schema=schema, compression='SNAPPY') as writer:\n",
    "    table = pa.Table.from_pandas(items_df, schema=schema)\n",
    "    writer.write_table(table)\n",
    "print(f\"Размер: {len(items_df)} записей\")\n",
    "print(f\"Имена столбцов: {items_df.columns.tolist()}\")"
   ]
  },
  {
   "cell_type": "code",
   "execution_count": null,
   "id": "e3c1e991-5ecb-45b0-824a-d73f0fcafc9e",
   "metadata": {},
   "outputs": [],
   "source": [
    "schema = pa.Schema.from_pandas(interactions_clean)\n",
    "with pq.ParquetWriter('events.parquet', schema=schema, compression='SNAPPY') as writer:\n",
    "    table = pa.Table.from_pandas(interactions_clean, schema=schema)\n",
    "    writer.write_table(table)\n",
    "print(f\"Размер: {len(interactions_clean)} записей\")\n",
    "print(f\"Имена столбцов: {interactions_clean.columns.tolist()}\")"
   ]
  },
  {
   "cell_type": "markdown",
   "id": "36f1314a-3af3-4faf-a0b1-3045173d1500",
   "metadata": {},
   "source": [
    "Сохраним данные в двух файлах в персональном S3-бакете по пути `recsys/data/`:\n",
    "- `items.parquet` — все данные о музыкальных треках,\n",
    "- `events.parquet` — все данные о взаимодействиях."
   ]
  },
  {
   "cell_type": "code",
   "execution_count": null,
   "id": "2bd7e73e-b751-4390-837d-a4eab9eb9e30",
   "metadata": {},
   "outputs": [],
   "source": [
    "import s3fs\n",
    "import pyarrow as pa\n",
    "from dotenv import load_dotenv\n",
    "import os\n",
    "\n",
    "load_dotenv()\n",
    "\n",
    "S3_BUCKET = os.getenv('S3_BUCKET_NAME')\n",
    "AWS_ACCESS_KEY_ID = os.getenv('AWS_ACCESS_KEY_ID')\n",
    "AWS_SECRET_ACCESS_KEY = os.getenv('AWS_SECRET_ACCESS_KEY')\n",
    "\n",
    "s3 = s3fs.S3FileSystem(\n",
    "        key=AWS_ACCESS_KEY_ID,\n",
    "        secret=AWS_SECRET_ACCESS_KEY,\n",
    "        endpoint_url='https://storage.yandexcloud.net',\n",
    "        client_kwargs={'region_name': 'ru-central1'}  # Регион по умолчанию\n",
    ")\n",
    "\n",
    "s3_events_path = 'recsys/data/items.parquet'\n",
    "\n",
    "full_path = f's3://{S3_BUCKET}/{s3_events_path}'\n",
    "table = pa.Table.from_pandas(items_df)\n",
    "        \n",
    "pq.write_table(\n",
    "            table,\n",
    "            full_path,\n",
    "            filesystem=s3,\n",
    "            compression='SNAPPY',\n",
    "            coerce_timestamps='ms',\n",
    "            allow_truncated_timestamps=True\n",
    ")\n",
    "print(f\"Файл успешно сохранен: {full_path}\")\n",
    "\n",
    "\n",
    "s3_events_path = 'recsys/data/events.parquet'\n",
    "\n",
    "full_path = f's3://{S3_BUCKET}/{s3_events_path}'\n",
    "table = pa.Table.from_pandas(interactions_clean)\n",
    "        \n",
    "pq.write_table(\n",
    "            table,\n",
    "            full_path,\n",
    "            filesystem=s3,\n",
    "            compression='SNAPPY',\n",
    "            coerce_timestamps='ms',\n",
    "            allow_truncated_timestamps=True\n",
    ")\n",
    "print(f\"Файл успешно сохранен: {full_path}\")"
   ]
  },
  {
   "cell_type": "markdown",
   "id": "72ecbbed-c560-44d9-9c14-86c7dc76f399",
   "metadata": {},
   "source": [
    "# Очистка памяти"
   ]
  },
  {
   "cell_type": "markdown",
   "id": "b5358ede-ba6e-4c4f-bd73-5b9344f0ba79",
   "metadata": {},
   "source": [
    "Здесь, может понадобится очистка памяти для высвобождения ресурсов для выполнения кода ниже. \n",
    "\n",
    "Приведите соответствующие код, комментарии, например:\n",
    "- код для удаление более ненужных переменных,\n",
    "- комментарий, что следует перезапустить kernel, выполнить такие-то начальные секции и продолжить с этапа 3."
   ]
  },
  {
   "cell_type": "markdown",
   "id": "2ec44101-8b11-4996-a43b-36692ec78317",
   "metadata": {},
   "source": [
    "Необходимо перезапустить ядро и выполнить первую ячейку с импортами"
   ]
  },
  {
   "cell_type": "markdown",
   "id": "708503df-ee89-4cf3-8489-093dc478e2a8",
   "metadata": {},
   "source": [
    "# === ЭТАП 3 ==="
   ]
  },
  {
   "cell_type": "markdown",
   "id": "fd77de22-e10f-4b42-85c1-8fb6f805fe68",
   "metadata": {},
   "source": [
    "# Загрузка данных"
   ]
  },
  {
   "cell_type": "markdown",
   "id": "780a4241-1ecd-4a3e-bbb3-fc2f6ca94f68",
   "metadata": {},
   "source": [
    "Если необходимо, то загружаем items.parquet, events.parquet."
   ]
  },
  {
   "cell_type": "code",
   "execution_count": null,
   "id": "f4c7a6e2",
   "metadata": {},
   "outputs": [],
   "source": [
    "import pandas as pd\n",
    "import numpy as np\n",
    "import math\n"
   ]
  },
  {
   "cell_type": "code",
   "execution_count": null,
   "id": "f19fc8a5-bd2c-40d7-864a-ee75aca6d512",
   "metadata": {},
   "outputs": [],
   "source": [
    "items = pd.read_parquet(\"items.parquet\")\n",
    "events = pd.read_parquet(\"events.parquet\")"
   ]
  },
  {
   "cell_type": "code",
   "execution_count": null,
   "id": "94c4c44a",
   "metadata": {},
   "outputs": [],
   "source": [
    "items.head()"
   ]
  },
  {
   "cell_type": "code",
   "execution_count": null,
   "id": "687d2974",
   "metadata": {},
   "outputs": [],
   "source": [
    "events.head()"
   ]
  },
  {
   "cell_type": "markdown",
   "id": "fbd5f6e0-54e7-4428-8678-eabce505d82c",
   "metadata": {},
   "source": [
    "Разбиваем данные на тренировочную, тестовую выборки."
   ]
  },
  {
   "cell_type": "code",
   "execution_count": null,
   "id": "34da93dc",
   "metadata": {},
   "outputs": [],
   "source": [
    "from sklearn.preprocessing import MinMaxScaler\n",
    "\n",
    "\n",
    "events['rating_count'] = events.groupby('track_id')['user_id'].transform('nunique')\n",
    "\n",
    "scaler = MinMaxScaler()\n",
    "events['rating'] = scaler.fit_transform(events[['rating_count']])"
   ]
  },
  {
   "cell_type": "code",
   "execution_count": null,
   "id": "00c2dfa5-d8a2-47d1-922e-6eefee2c62d1",
   "metadata": {},
   "outputs": [],
   "source": [
    "train_test_global_time_split_date = pd.to_datetime(\"2022-12-16\")\n",
    "\n",
    "train_test_global_time_split_idx = events[\"started_at\"] < train_test_global_time_split_date\n",
    "events_train = events[train_test_global_time_split_idx]\n",
    "events_test = events[~train_test_global_time_split_idx]\n",
    "\n",
    "users_train = events_train[\"user_id\"].drop_duplicates()\n",
    "users_test = events_test[\"user_id\"].drop_duplicates()\n",
    "\n",
    "\n",
    "common_users = set(users_train).intersection(set(users_test))\n",
    "\n",
    "print(len(users_train), len(users_test), len(common_users))"
   ]
  },
  {
   "cell_type": "code",
   "execution_count": null,
   "id": "09e38110",
   "metadata": {},
   "outputs": [],
   "source": [
    "cold_users = users_test[~users_test.isin(common_users)]\n",
    "\n",
    "print(len(cold_users))"
   ]
  },
  {
   "cell_type": "code",
   "execution_count": null,
   "id": "6c8b1c8a",
   "metadata": {},
   "outputs": [],
   "source": [
    "from sklearn.preprocessing import LabelEncoder\n",
    "\n",
    "\n",
    "user_encoder = LabelEncoder()\n",
    "user_encoder.fit(events[\"user_id\"])\n",
    "\n",
    "events[\"item_id_enc\"] = user_encoder.transform(events[\"user_id\"])\n",
    "events_train[\"user_id_enc\"] = user_encoder.transform(events_train[\"user_id\"])\n",
    "events_test[\"user_id_enc\"] = user_encoder.transform(events_test[\"user_id\"])\n",
    "\n",
    "item_encoder = LabelEncoder()\n",
    "item_encoder.fit(items[\"track_id\"])\n",
    "\n",
    "items[\"track_id_enc\"] = item_encoder.transform(items[\"track_id\"])\n",
    "events_train[\"track_id_enc\"] = item_encoder.transform(events_train[\"track_id\"])\n",
    "events_test[\"track_id_enc\"] = item_encoder.transform(events_test[\"track_id\"])"
   ]
  },
  {
   "cell_type": "code",
   "execution_count": null,
   "id": "ee4375c1",
   "metadata": {},
   "outputs": [],
   "source": [
    "import joblib\n",
    "\n",
    "\n",
    "joblib.dump(user_encoder, 'user_encoder.pkl')\n",
    "joblib.dump(item_encoder, 'item_encoder.pkl')"
   ]
  },
  {
   "cell_type": "code",
   "execution_count": null,
   "id": "a636d5ba",
   "metadata": {},
   "outputs": [],
   "source": [
    "events_train.to_parquet('events_train.parquet')\n",
    "events_test.to_parquet('events_test.parquet')"
   ]
  },
  {
   "cell_type": "markdown",
   "id": "9131c7e6-8852-4556-b510-51f7253cc299",
   "metadata": {},
   "source": [
    "# Топ популярных"
   ]
  },
  {
   "cell_type": "markdown",
   "id": "dd70d43a-88cc-4719-b291-feaed7136f30",
   "metadata": {},
   "source": [
    "Рассчитаем рекомендации как топ популярных."
   ]
  },
  {
   "cell_type": "code",
   "execution_count": null,
   "id": "d069e33d",
   "metadata": {},
   "outputs": [],
   "source": [
    "import pandas as pd\n",
    "import joblib\n",
    "\n",
    "events_train = pd.read_parquet('events_train.parquet')\n",
    "events_test = pd.read_parquet('events_test.parquet')\n",
    "items = pd.read_parquet(\"items.parquet\")\n",
    "user_encoder = joblib.load('user_encoder.pkl')\n",
    "item_encoder = joblib.load('item_encoder.pkl')\n",
    "track_info = items[['track_id','track_name','album_names','artist_names','genre_names']]"
   ]
  },
  {
   "cell_type": "code",
   "execution_count": null,
   "id": "6feca839",
   "metadata": {},
   "outputs": [],
   "source": [
    "events_train"
   ]
  },
  {
   "cell_type": "code",
   "execution_count": null,
   "id": "7690c86f-7aa9-46ed-bba5-2c837626411e",
   "metadata": {},
   "outputs": [],
   "source": [
    "item_popularity = events_train \\\n",
    "    .groupby([\"track_id\"]).agg(users=(\"user_id\", \"nunique\"), avg_rating=(\"rating\", \"mean\")).reset_index()\n",
    "\n",
    "# Добавляем информацию о треках\n",
    "top_k_pop_items = item_popularity.merge(\n",
    "    track_info.set_index(\"track_id\"), on=\"track_id\").sort_values('users', ascending=False).head(100)"
   ]
  },
  {
   "cell_type": "code",
   "execution_count": null,
   "id": "8e951bc8",
   "metadata": {},
   "outputs": [],
   "source": [
    "with pd.option_context('display.max_rows', 100):\n",
    "    display(top_k_pop_items)"
   ]
  },
  {
   "cell_type": "code",
   "execution_count": null,
   "id": "30878e6f",
   "metadata": {},
   "outputs": [],
   "source": [
    "# сохранение в s3\n",
    "import s3fs\n",
    "import pyarrow as pa\n",
    "import pyarrow.parquet as pq\n",
    "from dotenv import load_dotenv\n",
    "import os\n",
    "\n",
    "load_dotenv()\n",
    "\n",
    "S3_BUCKET = os.getenv('S3_BUCKET_NAME')\n",
    "AWS_ACCESS_KEY_ID = os.getenv('AWS_ACCESS_KEY_ID')\n",
    "AWS_SECRET_ACCESS_KEY = os.getenv('AWS_SECRET_ACCESS_KEY')\n",
    "\n",
    "s3 = s3fs.S3FileSystem(\n",
    "        key=AWS_ACCESS_KEY_ID,\n",
    "        secret=AWS_SECRET_ACCESS_KEY,\n",
    "        endpoint_url='https://storage.yandexcloud.net',\n",
    "        client_kwargs={'region_name': 'ru-central1'}  \n",
    ")\n",
    "\n",
    "s3_path = 'recsys/recommendations/top_popular.parquet'\n",
    "\n",
    "full_path = f's3://{S3_BUCKET}/{s3_path}'\n",
    "table = pa.Table.from_pandas(top_k_pop_items)\n",
    "        \n",
    "pq.write_table(\n",
    "            table,\n",
    "            full_path,\n",
    "            filesystem=s3,\n",
    "            compression='SNAPPY',\n",
    "            coerce_timestamps='ms',\n",
    "            allow_truncated_timestamps=True\n",
    ")\n",
    "print(f\"Файл успешно сохранен: {full_path}\")"
   ]
  },
  {
   "cell_type": "markdown",
   "id": "2ad231f2-6158-421a-b7fa-01d8bc3ed572",
   "metadata": {},
   "source": [
    "# Персональные"
   ]
  },
  {
   "cell_type": "markdown",
   "id": "86159460-cd9d-4b63-8248-604ea3c9aebf",
   "metadata": {},
   "source": [
    "Рассчитаем персональные рекомендации."
   ]
  },
  {
   "cell_type": "code",
   "execution_count": null,
   "id": "4081e0ff",
   "metadata": {},
   "outputs": [],
   "source": [
    "import pandas as pd\n",
    "similar_items = pd.read_parquet(\"similar_items.parquet\")\n",
    "candidates = pd.read_parquet(\"candidates_als_sim.parquet\")\n",
    "als_recommendations = pd.read_parquet(\"als_recommendations.parquet\")\n",
    "items = pd.read_parquet(\"items.parquet\")\n",
    "events = pd.read_parquet(\"events.parquet\")\n",
    "events_train = pd.read_parquet(\"events_train.parquet\")\n",
    "events_test = pd.read_parquet(\"events_test.parquet\")"
   ]
  },
  {
   "cell_type": "code",
   "execution_count": null,
   "id": "053ab2d4-d660-49f6-a9a2-35ff742fab45",
   "metadata": {},
   "outputs": [],
   "source": [
    "import pandas as pd\n",
    "import numpy as np\n",
    "from scipy.sparse import coo_matrix, csr_matrix\n",
    "from implicit.als import AlternatingLeastSquares\n",
    "# from implicit.evaluation import precision_at_k, recall_at_k\n",
    "from collections import defaultdict"
   ]
  },
  {
   "cell_type": "code",
   "execution_count": null,
   "id": "bdd084e2",
   "metadata": {},
   "outputs": [],
   "source": [
    "user_item_matrix_train = csr_matrix((\n",
    "    events_train[\"rating\"],\n",
    "    (events_train['user_id_enc'], events_train['track_id_enc'])),\n",
    "    dtype=np.int8) \n",
    "\n",
    "user_item_matrix_train"
   ]
  },
  {
   "cell_type": "code",
   "execution_count": null,
   "id": "81c50177",
   "metadata": {},
   "outputs": [],
   "source": [
    "als_model = AlternatingLeastSquares(factors=50, \n",
    "                                    iterations=10, \n",
    "                                    regularization=0.05, \n",
    "                                    random_state=42)\n",
    "\n",
    "als_model.fit(user_item_matrix_train)"
   ]
  },
  {
   "cell_type": "code",
   "execution_count": null,
   "id": "23f63062",
   "metadata": {},
   "outputs": [],
   "source": [
    "import joblib\n",
    "\n",
    "# user_encoder = joblib.load('user_encoder.pkl')\n",
    "# item_encoder = joblib.\n",
    "def get_recommendations_als(user_item_matrix, model, user_id, user_encoder, item_encoder, include_seen=True, n=5):\n",
    "    \"\"\"\n",
    "    Возвращает отранжированные рекомендации для заданного пользователя\n",
    "    \"\"\"\n",
    "    user_id_enc = user_encoder.transform([user_id])[0]\n",
    "    recommendations = model.recommend(\n",
    "         user_id_enc, \n",
    "         user_item_matrix[user_id_enc], \n",
    "         filter_already_liked_items=not include_seen,\n",
    "         N=n)\n",
    "    recommendations = pd.DataFrame({\"track_id_enc\": recommendations[0], \"score\": recommendations[1]})\n",
    "    recommendations[\"track_id\"] = item_encoder.inverse_transform(recommendations[\"track_id_enc\"])\n",
    "    \n",
    "    return recommendations"
   ]
  },
  {
   "cell_type": "code",
   "execution_count": null,
   "id": "af5a4e1c",
   "metadata": {},
   "outputs": [],
   "source": [
    "user_id = events_train['user_id'].sample().iat[0]\n",
    "\n",
    "print(f\"user_id: {user_id}\")\n",
    "\n",
    "print(\"История (последние события, recent)\")\n",
    "user_history = (\n",
    "    events_train\n",
    "    .query(\"user_id == @user_id\")\n",
    "    .merge(items.set_index(\"track_id\"), on=\"track_id\")\n",
    ")\n",
    "user_history_to_print = user_history.tail(10)\n",
    "display(user_history_to_print)\n",
    "\n",
    "print(\"Рекомендации\")\n",
    "user_recommendations = get_recommendations_als(user_item_matrix_train, als_model, user_id, user_encoder, item_encoder, include_seen=True, n=5)\n",
    "user_recommendations = user_recommendations.merge(items, on=\"track_id\")\n",
    "display(user_recommendations)"
   ]
  },
  {
   "cell_type": "code",
   "execution_count": null,
   "id": "c595303e-97e7-4b8a-bc12-c7ace8c136ae",
   "metadata": {},
   "outputs": [],
   "source": [
    "user_ids_encoded = range(events_train['user_id_enc'].max())\n",
    "\n",
    "# Получаем рекомендации для всех пользователей\n",
    "als_recommendations = als_model.recommend(\n",
    "    user_ids_encoded, \n",
    "    user_item_matrix_train[user_ids_encoded], \n",
    "    filter_already_liked_items=False, N=5)"
   ]
  },
  {
   "cell_type": "code",
   "execution_count": null,
   "id": "03084b93",
   "metadata": {},
   "outputs": [],
   "source": [
    "item_ids_enc = als_recommendations[0]\n",
    "als_scores = als_recommendations[1]\n",
    "\n",
    "als_recommendations = pd.DataFrame({\n",
    "    \"user_id_enc\": user_ids_encoded,\n",
    "    \"track_id_enc\": item_ids_enc.tolist(), \n",
    "    \"score\": als_scores.tolist()})\n",
    "als_recommendations = als_recommendations.explode([\"track_id_enc\", \"score\"], ignore_index=True)\n",
    "\n",
    "# Приводим типы данных\n",
    "als_recommendations[\"track_id_enc\"] = als_recommendations[\"track_id_enc\"].astype(\"int\")\n",
    "als_recommendations[\"score\"] = als_recommendations[\"score\"].astype(\"float\")\n",
    "\n",
    "# Получаем изначальные идентификаторы\n",
    "als_recommendations[\"user_id\"] = user_encoder.inverse_transform(als_recommendations[\"user_id_enc\"])\n",
    "als_recommendations[\"track_id\"] = item_encoder.inverse_transform(als_recommendations[\"track_id_enc\"])\n",
    "als_recommendations = als_recommendations.drop(columns=[\"user_id_enc\", \"track_id_enc\"])"
   ]
  },
  {
   "cell_type": "code",
   "execution_count": null,
   "id": "2ae51b33",
   "metadata": {},
   "outputs": [],
   "source": [
    "als_recommendations = als_recommendations[[\"user_id\", \"track_id\", \"score\"]]\n",
    "als_recommendations.to_parquet(\"personal_als.parquet\")"
   ]
  },
  {
   "cell_type": "code",
   "execution_count": null,
   "id": "5b6206a7",
   "metadata": {},
   "outputs": [],
   "source": [
    "als_recommendations"
   ]
  },
  {
   "cell_type": "code",
   "execution_count": null,
   "id": "42f891ec",
   "metadata": {},
   "outputs": [],
   "source": [
    "personal_als = als_recommendations.merge(track_info.set_index(\"track_id\"), \n",
    "                                         on=\"track_id\")"
   ]
  },
  {
   "cell_type": "code",
   "execution_count": null,
   "id": "db913b14",
   "metadata": {},
   "outputs": [],
   "source": [
    "personal_als[personal_als['user_id']==1374577]"
   ]
  },
  {
   "cell_type": "code",
   "execution_count": null,
   "id": "c662935b",
   "metadata": {},
   "outputs": [],
   "source": [
    "# сохранение в s3\n",
    "import s3fs\n",
    "import pyarrow as pa\n",
    "import pyarrow.parquet as pq\n",
    "from dotenv import load_dotenv\n",
    "import os\n",
    "\n",
    "load_dotenv()\n",
    "\n",
    "S3_BUCKET = os.getenv('S3_BUCKET_NAME')\n",
    "AWS_ACCESS_KEY_ID = os.getenv('AWS_ACCESS_KEY_ID')\n",
    "AWS_SECRET_ACCESS_KEY = os.getenv('AWS_SECRET_ACCESS_KEY')\n",
    "\n",
    "s3 = s3fs.S3FileSystem(\n",
    "        key=AWS_ACCESS_KEY_ID,\n",
    "        secret=AWS_SECRET_ACCESS_KEY,\n",
    "        endpoint_url='https://storage.yandexcloud.net',\n",
    "        client_kwargs={'region_name': 'ru-central1'}  \n",
    ")\n",
    "\n",
    "s3_path = 'recsys/recommendations/personal_als.parquet'\n",
    "\n",
    "full_path = f's3://{S3_BUCKET}/{s3_path}'\n",
    "table = pa.Table.from_pandas(personal_als)\n",
    "        \n",
    "pq.write_table(\n",
    "            table,\n",
    "            full_path,\n",
    "            filesystem=s3,\n",
    "            compression='SNAPPY',\n",
    "            coerce_timestamps='ms',\n",
    "            allow_truncated_timestamps=True\n",
    ")\n",
    "print(f\"Файл успешно сохранен: {full_path}\")"
   ]
  },
  {
   "cell_type": "markdown",
   "id": "5f09dc7e-7c91-4355-860a-b9cfb9f33f15",
   "metadata": {},
   "source": [
    "# Похожие"
   ]
  },
  {
   "cell_type": "markdown",
   "id": "1dfcb683-b440-40a8-9975-894156a53872",
   "metadata": {},
   "source": [
    "Рассчитаем похожие, они позже пригодятся для онлайн-рекомендаций."
   ]
  },
  {
   "cell_type": "code",
   "execution_count": null,
   "id": "5d044eeb",
   "metadata": {},
   "outputs": [],
   "source": [
    "train_item_ids_enc = events_train['track_id_enc'].unique()\n",
    "\n",
    "max_similar_items = 5\n",
    "\n",
    "# Получаем списки похожих объектов, используя ранее полученную ALS-модель\n",
    "similar_items = als_model.similar_items(train_item_ids_enc, N=max_similar_items+1)\n",
    "\n",
    "# Преобразуем полученные списки в табличный формат\n",
    "sim_item_item_ids_enc = similar_items[0]\n",
    "sim_item_scores = similar_items[1]\n",
    "\n",
    "similar_items = pd.DataFrame({\n",
    "    \"track_id_enc\": train_item_ids_enc,\n",
    "    \"sim_track_id_enc\": sim_item_item_ids_enc.tolist(), \n",
    "    \"score\": [sim_scores[0:] for sim_scores in sim_item_scores]})"
   ]
  },
  {
   "cell_type": "code",
   "execution_count": null,
   "id": "e4fa33b6",
   "metadata": {},
   "outputs": [],
   "source": [
    "similar_items = similar_items.explode(['sim_track_id_enc', 'score'])\n",
    "\n",
    "# Приводим типы данных\n",
    "similar_items[\"sim_track_id_enc\"] = similar_items[\"sim_track_id_enc\"].astype(\"int\")\n",
    "similar_items[\"score\"] = similar_items[\"score\"].astype(\"float\")\n",
    "\n",
    "# Получаем исходные идентификаторы\n",
    "item_id_map = events_train[['track_id_enc', 'track_id']].drop_duplicates().set_index('track_id_enc')['track_id'].to_dict()\n",
    "similar_items[\"track_id_1\"] = similar_items[\"track_id_enc\"].map(item_id_map)\n",
    "similar_items[\"track_id_2\"] = similar_items[\"sim_track_id_enc\"].map(item_id_map)\n",
    "similar_items = similar_items.drop(columns=[\"track_id_enc\", \"sim_track_id_enc\"])\n",
    "\n",
    "# Убираем пары с одинаковыми объектами\n",
    "similar_items = similar_items.query(\"track_id_1 != track_id_2\")"
   ]
  },
  {
   "cell_type": "code",
   "execution_count": null,
   "id": "e98a5008",
   "metadata": {},
   "outputs": [],
   "source": [
    "similar_items.to_parquet(\"similar_items.parquet\")"
   ]
  },
  {
   "cell_type": "code",
   "execution_count": null,
   "id": "5b0c9dc9",
   "metadata": {},
   "outputs": [],
   "source": [
    "# Создадим функцию чтобы вывести результаты с названиями треков\n",
    "def print_sim_items(track_id, similar_items):\n",
    "\n",
    "    item_columns_to_use = [\"track_id\",'track_name','artist_names','genre_names']\n",
    "    \n",
    "    item_id_1 = track_info.query(\"track_id == @track_id\")[item_columns_to_use]\n",
    "    display(item_id_1)\n",
    "    \n",
    "    si = similar_items.query(\"track_id_1 == @track_id\")\n",
    "    si = si.merge(track_info[item_columns_to_use].set_index(\"track_id\"), left_on=\"track_id_2\", right_index=True)\n",
    "    display(si)"
   ]
  },
  {
   "cell_type": "code",
   "execution_count": null,
   "id": "2b5665b5",
   "metadata": {},
   "outputs": [],
   "source": [
    "print_sim_items(53404, similar_items)"
   ]
  },
  {
   "cell_type": "code",
   "execution_count": null,
   "id": "8323624c",
   "metadata": {},
   "outputs": [],
   "source": [
    "# сохранение в s3\n",
    "import s3fs\n",
    "import pyarrow as pa\n",
    "import pyarrow.parquet as pq\n",
    "from dotenv import load_dotenv\n",
    "import os\n",
    "\n",
    "load_dotenv()\n",
    "\n",
    "S3_BUCKET = os.getenv('S3_BUCKET_NAME')\n",
    "AWS_ACCESS_KEY_ID = os.getenv('AWS_ACCESS_KEY_ID')\n",
    "AWS_SECRET_ACCESS_KEY = os.getenv('AWS_SECRET_ACCESS_KEY')\n",
    "\n",
    "s3 = s3fs.S3FileSystem(\n",
    "        key=AWS_ACCESS_KEY_ID,\n",
    "        secret=AWS_SECRET_ACCESS_KEY,\n",
    "        endpoint_url='https://storage.yandexcloud.net',\n",
    "        client_kwargs={'region_name': 'ru-central1'}  \n",
    ")\n",
    "\n",
    "s3_path = 'recsys/recommendations/similar_items.parquet'\n",
    "\n",
    "full_path = f's3://{S3_BUCKET}/{s3_path}'\n",
    "table = pa.Table.from_pandas(similar_items)\n",
    "        \n",
    "pq.write_table(\n",
    "            table,\n",
    "            full_path,\n",
    "            filesystem=s3,\n",
    "            compression='SNAPPY',\n",
    "            coerce_timestamps='ms',\n",
    "            allow_truncated_timestamps=True\n",
    ")\n",
    "print(f\"Файл успешно сохранен: {full_path}\")"
   ]
  },
  {
   "cell_type": "markdown",
   "id": "0087a3e7-ca9f-42cd-944c-944222c1baef",
   "metadata": {},
   "source": [
    "# Построение признаков"
   ]
  },
  {
   "cell_type": "markdown",
   "id": "e82a32e1-b90b-4eaf-9439-fc8deab9f34b",
   "metadata": {},
   "source": [
    "Построим три признака, можно больше, для ранжирующей модели."
   ]
  },
  {
   "cell_type": "code",
   "execution_count": null,
   "id": "05b4ae84-406a-44a4-abec-4f80f93e3004",
   "metadata": {},
   "outputs": [],
   "source": [
    "import pandas as pd\n",
    "\n",
    "events_train = pd.read_parquet('events_train.parquet')\n",
    "events_test = pd.read_parquet('events_test.parquet')\n",
    "items = pd.read_parquet(\"items.parquet\")"
   ]
  },
  {
   "cell_type": "code",
   "execution_count": null,
   "id": "00f84c35-f544-4c3d-ad53-9b1d2b684c75",
   "metadata": {},
   "outputs": [],
   "source": [
    "split_date_for_labels = events_test[\"started_at\"].max() - pd.Timedelta(days=14)\n",
    "\n",
    "# Разделим данные\n",
    "split_date_for_labels_idx = events_test[\"started_at\"] < split_date_for_labels\n",
    "events_labels = events_test[split_date_for_labels_idx].copy()\n",
    "events_test_2 = events_test[~split_date_for_labels_idx].copy()\n",
    "\n",
    "# Добавим признак таргета\n",
    "events_labels[\"target\"] = 1\n",
    "\n",
    "# Проверим результат\n",
    "print(f'Тестовый датасет: {events_test_2.shape}')\n",
    "print(f'Датасет с взаимодействиями за неделю: {events_labels.shape}')"
   ]
  },
  {
   "cell_type": "code",
   "execution_count": null,
   "id": "af1ee977",
   "metadata": {},
   "outputs": [],
   "source": [
    "events_labels.sample(3)"
   ]
  },
  {
   "cell_type": "code",
   "execution_count": null,
   "id": "d38eb99c",
   "metadata": {},
   "outputs": [],
   "source": [
    "als_recommendations = pd.read_parquet(\"personal_als.parquet\")\n",
    "candidates = als_recommendations.merge(events_labels[[\"user_id\", \"track_id\", \"target\"]], \n",
    "                                       on=[\"user_id\", \"track_id\"],\n",
    "                                       how=\"left\").rename(columns={\"score\": \"als_score\"})\n",
    "\n",
    "# Заполним пропуски\n",
    "candidates['target'] = candidates['target'].fillna(0).astype('int')"
   ]
  },
  {
   "cell_type": "code",
   "execution_count": null,
   "id": "26370fc6",
   "metadata": {},
   "outputs": [],
   "source": [
    "candidates = candidates.iloc[:10000]"
   ]
  },
  {
   "cell_type": "code",
   "execution_count": null,
   "id": "352ddca1",
   "metadata": {},
   "outputs": [],
   "source": [
    "candidates.target.value_counts()"
   ]
  },
  {
   "cell_type": "code",
   "execution_count": null,
   "id": "e2984619",
   "metadata": {},
   "outputs": [],
   "source": [
    "candidates_to_sample = candidates.groupby(\"user_id\").filter(lambda x: x[\"target\"].sum() > 0)\n",
    "\n",
    "# для каждого пользователя оставляем 5 негативных примеров\n",
    "negatives_per_user = 5\n",
    "candidates_for_train = pd.concat([\n",
    "    candidates_to_sample.query(\"target == 1\"),\n",
    "    candidates_to_sample.query(\"target == 0\") \\\n",
    "        .groupby(\"user_id\") \\\n",
    "        .apply(lambda x: x.sample(negatives_per_user, random_state=0,replace=True))\n",
    "    ]).reset_index(drop=True)"
   ]
  },
  {
   "cell_type": "code",
   "execution_count": null,
   "id": "1b244620",
   "metadata": {},
   "outputs": [],
   "source": [
    "candidates_for_train.target.value_counts()"
   ]
  },
  {
   "cell_type": "code",
   "execution_count": null,
   "id": "870f1fa9",
   "metadata": {},
   "outputs": [],
   "source": [
    "candidates_for_train = candidates_for_train.merge(items[[\"track_id\", 'genre_names']],\n",
    "                                                  on=\"track_id\",\n",
    "                                                  how=\"left\")"
   ]
  },
  {
   "cell_type": "code",
   "execution_count": null,
   "id": "eac0d6d8",
   "metadata": {},
   "outputs": [],
   "source": [
    "events_train = events_train[events_train['track_id'].isin(candidates_for_train['track_id'])]"
   ]
  },
  {
   "cell_type": "code",
   "execution_count": null,
   "id": "bb95e0d4",
   "metadata": {},
   "outputs": [],
   "source": [
    "genre_and_votes = (events_train.merge(items[[\"track_id\", \"genre_names\"]],\n",
    "                                      on=\"track_id\",\n",
    "                                      how=\"left\")[\"genre_names\"]\n",
    "                                      .value_counts(normalize=True)\n",
    "                                      .reset_index(name=\"genre_and_votes\")\n",
    "                                      .rename(columns={\"index\": \"genres\"})\n",
    "                                      )\n",
    "\n",
    "# Сортировка по доле жанра\n",
    "genre_and_votes.sort_values(by=\"genre_and_votes\", ascending=False, inplace=True)"
   ]
  },
  {
   "cell_type": "code",
   "execution_count": null,
   "id": "c7cfeb0f",
   "metadata": {},
   "outputs": [],
   "source": [
    "genre_and_votes"
   ]
  },
  {
   "cell_type": "code",
   "execution_count": null,
   "id": "37e46559",
   "metadata": {},
   "outputs": [],
   "source": [
    "genre_and_votes['genre_names'] = genre_and_votes['genre_names'].astype(str)\n",
    "candidates_for_train['genre_names'] = candidates_for_train['genre_names'].astype(str)\n",
    "candidates_for_train = candidates_for_train.merge(genre_and_votes, on=\"genre_names\", how=\"left\" )"
   ]
  },
  {
   "cell_type": "code",
   "execution_count": null,
   "id": "d45ca381",
   "metadata": {},
   "outputs": [],
   "source": [
    "def get_user_features(events):\n",
    "    \"\"\" считает пользовательские признаки \"\"\"\n",
    "    \n",
    "    user_features = events.groupby(\"user_id\").agg(\n",
    "        tracks_month=(\"started_at\", lambda x: (x.max()-x.min()).days/30),\n",
    "        tracks_listened=(\"track_id\", \"count\"),\n",
    "        rating_avg=(\"rating\", \"mean\"),\n",
    "        rating_std=(\"rating\", \"std\"))\n",
    "    \n",
    "    user_features[\"tracks_per_month\"] = user_features[\"tracks_listened\"] / user_features[\"tracks_month\"]\n",
    "    \n",
    "    return user_features"
   ]
  },
  {
   "cell_type": "code",
   "execution_count": null,
   "id": "5df724fd",
   "metadata": {},
   "outputs": [],
   "source": [
    "user_features_for_train = get_user_features(events_train)\n",
    "candidates_for_train = candidates_for_train.merge(user_features_for_train, on=\"user_id\", how=\"left\")"
   ]
  },
  {
   "cell_type": "code",
   "execution_count": null,
   "id": "af1a85ab",
   "metadata": {},
   "outputs": [],
   "source": [
    "candidates_for_train.to_parquet('candidates_for_train.parquet')"
   ]
  },
  {
   "cell_type": "code",
   "execution_count": null,
   "id": "aa546bd2",
   "metadata": {},
   "outputs": [],
   "source": [
    "events_inference = pd.concat([events_train, events_labels])\n",
    "events_inference.info()"
   ]
  },
  {
   "cell_type": "code",
   "execution_count": null,
   "id": "c529ddd8",
   "metadata": {},
   "outputs": [],
   "source": [
    "from scipy.sparse import coo_matrix, csr_matrix\n",
    "from implicit.als import AlternatingLeastSquares\n",
    "import numpy as np\n",
    "\n",
    "user_item_matrix_train_2 = csr_matrix(\n",
    "    (\n",
    "    events_inference[\"rating\"],\n",
    "    (events_inference[\"user_id_enc\"], events_inference[\"track_id_enc\"])\n",
    "    ),\n",
    "    dtype=np.int8\n",
    ")\n",
    "\n",
    "# Проверим размерность\n",
    "user_item_matrix_train_2"
   ]
  },
  {
   "cell_type": "code",
   "execution_count": null,
   "id": "6f297f52",
   "metadata": {},
   "outputs": [],
   "source": [
    "als_model_inference = AlternatingLeastSquares(factors=50, \n",
    "                                    iterations=50, \n",
    "                                    regularization=0.05, \n",
    "                                    random_state=42)\n",
    "\n",
    "# Обучим модель ALS\n",
    "als_model_inference.fit(user_item_matrix_train_2)"
   ]
  },
  {
   "cell_type": "code",
   "execution_count": null,
   "id": "a1931f36",
   "metadata": {},
   "outputs": [],
   "source": [
    "user_ids_encoded = range(events_inference['user_id_enc'].max())\n",
    "\n",
    "als_recommendations_2 = als_model_inference.recommend(\n",
    "    user_ids_encoded, \n",
    "    user_item_matrix_train_2[user_ids_encoded], \n",
    "    filter_already_liked_items=False, \n",
    "    N=100\n",
    ")"
   ]
  },
  {
   "cell_type": "code",
   "execution_count": null,
   "id": "f74548e9",
   "metadata": {},
   "outputs": [],
   "source": [
    "import joblib\n",
    "\n",
    "user_encoder = joblib.load('user_encoder.pkl')\n",
    "item_encoder = joblib.load('item_encoder.pkl')\n",
    "\n",
    "item_ids_enc = als_recommendations_2[0]\n",
    "als_scores = als_recommendations_2[1]\n",
    "\n",
    "als_recommendations_2 = pd.DataFrame({\n",
    "    \"user_id_enc\": user_ids_encoded,\n",
    "    \"track_id_enc\": item_ids_enc.tolist(), \n",
    "    \"score\": als_scores.tolist()})\n"
   ]
  },
  {
   "cell_type": "code",
   "execution_count": null,
   "id": "ddfec693",
   "metadata": {},
   "outputs": [],
   "source": [
    "als_recommendations_2 = als_recommendations_2.explode([\"track_id_enc\", \"score\"], ignore_index=True)"
   ]
  },
  {
   "cell_type": "code",
   "execution_count": null,
   "id": "b865e783",
   "metadata": {},
   "outputs": [],
   "source": [
    "# Приводим типы данных\n",
    "als_recommendations_2[\"track_id_enc\"] = als_recommendations_2[\"track_id_enc\"].astype(\"int\")\n",
    "als_recommendations_2[\"score\"] = als_recommendations_2[\"score\"].astype(\"float\")"
   ]
  },
  {
   "cell_type": "code",
   "execution_count": null,
   "id": "777fcd20",
   "metadata": {},
   "outputs": [],
   "source": [
    "# Получаем изначальные идентификаторы\n",
    "als_recommendations_2[\"user_id\"] = user_encoder.inverse_transform(als_recommendations_2[\"user_id_enc\"])\n",
    "als_recommendations_2[\"track_id\"] = item_encoder.inverse_transform(als_recommendations_2[\"track_id_enc\"])\n",
    "als_recommendations_2e = als_recommendations_2.drop(columns=[\"user_id_enc\", \"track_id_enc\"])"
   ]
  },
  {
   "cell_type": "code",
   "execution_count": null,
   "id": "5627fd6d",
   "metadata": {},
   "outputs": [],
   "source": [
    "als_recommendations_2 = als_recommendations_2[[\"user_id\", \"track_id\", \"score\"]]\n",
    "\n",
    "# Посмотрим на результат\n",
    "als_recommendations_2.head(10)"
   ]
  },
  {
   "cell_type": "code",
   "execution_count": null,
   "id": "7ca11bac",
   "metadata": {},
   "outputs": [],
   "source": [
    "als_recommendations_2.to_parquet(\"personal_als_2.parquet\")"
   ]
  },
  {
   "cell_type": "code",
   "execution_count": null,
   "id": "08e924fb",
   "metadata": {},
   "outputs": [],
   "source": [
    "import pandas as pd\n",
    "als_recommendations_2 = pd.read_parquet(\"personal_als_2.parquet\")"
   ]
  },
  {
   "cell_type": "code",
   "execution_count": null,
   "id": "8c3bc0c5",
   "metadata": {},
   "outputs": [],
   "source": [
    "candidates_to_rank = als_recommendations_2[als_recommendations_2.user_id.isin(events_test_2.user_id.drop_duplicates())]\\\n",
    "                                          .rename(columns={\"score\": \"als_score\"})"
   ]
  },
  {
   "cell_type": "code",
   "execution_count": null,
   "id": "69a2e3a6",
   "metadata": {},
   "outputs": [],
   "source": [
    "genre_and_votes"
   ]
  },
  {
   "cell_type": "code",
   "execution_count": null,
   "id": "aae82591",
   "metadata": {},
   "outputs": [],
   "source": [
    "candidates_to_rank"
   ]
  },
  {
   "cell_type": "code",
   "execution_count": null,
   "id": "07f66f14",
   "metadata": {},
   "outputs": [],
   "source": [
    "# Добавим признаки треков\n",
    "candidates_to_rank = candidates_to_rank.merge(items[[\"track_id\", \"genre_names\"]], on=\"track_id\", how=\"left\")"
   ]
  },
  {
   "cell_type": "code",
   "execution_count": null,
   "id": "7b05a475",
   "metadata": {},
   "outputs": [],
   "source": [
    "# Преобразуем 'genre_names' в строку и сохраняем как новый столбец\n",
    "candidates_to_rank['genre_names'] = candidates_to_rank['genre_names'].astype(str)"
   ]
  },
  {
   "cell_type": "code",
   "execution_count": null,
   "id": "6a0944fd",
   "metadata": {},
   "outputs": [],
   "source": [
    "# Теперь используем новый столбец для объединения\n",
    "candidates_to_rank = candidates_to_rank.merge(genre_and_votes, left_on=\"genre_names_str\", right_on=\"genre_names\", how=\"left\")"
   ]
  },
  {
   "cell_type": "code",
   "execution_count": null,
   "id": "8d1a8dc0",
   "metadata": {},
   "outputs": [],
   "source": [
    "# Добавим признаки треков\n",
    "candidates_to_rank = candidates_to_rank.merge(items[[\"track_id\", \"genre_names\"]], on=\"track_id\", how=\"left\")\n",
    "\n",
    "# Преобразуем 'genre_names' в строку и сохраняем как новый столбец\n",
    "candidates_to_rank['genre_names_str'] = candidates_to_rank['genre_names'].astype(str)\n",
    "\n",
    "# Теперь используем новый столбец для объединения\n",
    "candidates_to_rank = candidates_to_rank.merge(genre_and_votes, left_on=\"genre_names_str\", right_on=\"genre_names\", how=\"left\")"
   ]
  },
  {
   "cell_type": "code",
   "execution_count": null,
   "id": "3a52dd36",
   "metadata": {},
   "outputs": [],
   "source": [
    "# Получим новые признаки\n",
    "user_features_for_ranking = get_user_features(events_inference)\n",
    "candidates_to_rank = candidates_to_rank.merge(user_features_for_ranking, on=\"user_id\", how=\"left\")"
   ]
  },
  {
   "cell_type": "code",
   "execution_count": null,
   "id": "c5841084",
   "metadata": {},
   "outputs": [],
   "source": [
    "# Сохраним результат\n",
    "candidates_to_rank.to_parquet('candidates_to_rank.parquet')"
   ]
  },
  {
   "cell_type": "markdown",
   "id": "47bcf88d-b236-46f0-a6f3-38ddd64895fe",
   "metadata": {},
   "source": [
    "# Ранжирование рекомендаций"
   ]
  },
  {
   "cell_type": "markdown",
   "id": "e8cd8223-3418-4493-8c87-1f76286ebda0",
   "metadata": {},
   "source": [
    "Построим ранжирующую модель, чтобы сделать рекомендации более точными. Отранжируем рекомендации."
   ]
  },
  {
   "cell_type": "code",
   "execution_count": null,
   "id": "79f1dd92-32a9-463d-827e-8bb9ee5bbb54",
   "metadata": {},
   "outputs": [],
   "source": [
    "from catboost import CatBoostClassifier, Pool\n",
    "\n",
    "# Задаём имена колонок признаков и таргета\n",
    "features = [\"als_score\", \"genre_names\", \"genre_and_votes\", \n",
    "            'tracks_month','tracks_listened',\n",
    "            'rating_avg','rating_std','tracks_per_month']\n",
    "cat_features = [\"genre_names\"]\n",
    "target = [\"target\"]\n",
    "\n",
    "train_data = Pool(\n",
    "    data=candidates_for_train[features],\n",
    "    label=candidates_for_train[target],\n",
    "    cat_features=cat_features,\n",
    ")\n",
    "\n",
    "# Инициализируем модель CatBoostClassifier\n",
    "cb_model = CatBoostClassifier(iterations=1000,\n",
    "                           learning_rate=0.1,\n",
    "                           depth=6,\n",
    "                           loss_function='Logloss',\n",
    "                           verbose=100,\n",
    "                           random_seed=42)\n",
    "\n",
    "# Обучим модель\n",
    "cb_model.fit(train_data)"
   ]
  },
  {
   "cell_type": "code",
   "execution_count": null,
   "id": "6dbe4db4-1ac5-44da-a13c-8e7f9768ab73",
   "metadata": {},
   "outputs": [],
   "source": [
    "# Создадим датасет для катбуста\n",
    "inference_data = Pool(data=als_recommendations_2[features], cat_features=cat_features)\n",
    "# Получим вероятности\n",
    "predictions = cb_model.predict_proba(inference_data)\n",
    "# Создадим признак с вероятностями базовой модели\n",
    "als_recommendations_2[\"cb_score\"] = predictions[:, 1]"
   ]
  },
  {
   "cell_type": "code",
   "execution_count": null,
   "id": "ff3fd00b",
   "metadata": {},
   "outputs": [],
   "source": [
    "# Для каждого пользователя проставляем rank, начиная с 1 — это максимальный cb_score\n",
    "candidates_to_rank = candidates_to_rank.sort_values([\"user_id\", \"cb_score\"], ascending=[True, False])\n",
    "candidates_to_rank[\"rank\"] = candidates_to_rank.groupby(\"user_id\").cumcount() + 1\n",
    "\n",
    "# Отранжируем рекомендации\n",
    "candidates_to_rank[\"rank\"] = candidates_to_rank.groupby(\"user_id\").cumcount() + 1"
   ]
  },
  {
   "cell_type": "code",
   "execution_count": null,
   "id": "7dc38b14",
   "metadata": {},
   "outputs": [],
   "source": [
    "# Выведем диаграмму с оценкой влияния признаков на целевой\n",
    "imp = pd.Series(cb_model.feature_importances_,\n",
    "                features)\n",
    "\n",
    "fig, ax = plt.subplots(figsize=(6,4))\n",
    "imp.sort_values(ascending=False).plot.bar(ax=ax)\n",
    "ax.set_title(\"Важность признаков\")\n",
    "ax.set_ylabel('Важность')\n",
    "fig.tight_layout()"
   ]
  },
  {
   "cell_type": "code",
   "execution_count": null,
   "id": "7f5503d4",
   "metadata": {},
   "outputs": [],
   "source": [
    "# Сохраним результат с другим названием\n",
    "recommendations = candidates_to_rank.copy()\n",
    "\n",
    "# Сохраним результат в рекомендации\n",
    "recommendations.to_parquet(\"recommendations.parquet\")"
   ]
  },
  {
   "cell_type": "code",
   "execution_count": null,
   "id": "9df1ae1c",
   "metadata": {},
   "outputs": [],
   "source": [
    "# сохранение в s3\n",
    "import s3fs\n",
    "import pyarrow as pa\n",
    "import pyarrow.parquet as pq\n",
    "from dotenv import load_dotenv\n",
    "import os\n",
    "\n",
    "load_dotenv()\n",
    "\n",
    "S3_BUCKET = os.getenv('S3_BUCKET_NAME')\n",
    "AWS_ACCESS_KEY_ID = os.getenv('AWS_ACCESS_KEY_ID')\n",
    "AWS_SECRET_ACCESS_KEY = os.getenv('AWS_SECRET_ACCESS_KEY')\n",
    "\n",
    "s3 = s3fs.S3FileSystem(\n",
    "        key=AWS_ACCESS_KEY_ID,\n",
    "        secret=AWS_SECRET_ACCESS_KEY,\n",
    "        endpoint_url='https://storage.yandexcloud.net',\n",
    "        client_kwargs={'region_name': 'ru-central1'}  \n",
    ")\n",
    "\n",
    "s3_path = 'recsys/recommendations/recommendations.parquet'\n",
    "\n",
    "full_path = f's3://{S3_BUCKET}/{s3_path}'\n",
    "table = pa.Table.from_pandas(recommendations)\n",
    "        \n",
    "pq.write_table(\n",
    "            table,\n",
    "            full_path,\n",
    "            filesystem=s3,\n",
    "            compression='SNAPPY',\n",
    "            coerce_timestamps='ms',\n",
    "            allow_truncated_timestamps=True\n",
    ")\n",
    "print(f\"Файл успешно сохранен: {full_path}\")"
   ]
  },
  {
   "cell_type": "markdown",
   "id": "b3c84071-45b5-4a15-a683-e0ab034a3128",
   "metadata": {},
   "source": [
    "# Оценка качества"
   ]
  },
  {
   "cell_type": "markdown",
   "id": "1b107fe4-554e-42b1-87d9-c435a52bb77a",
   "metadata": {},
   "source": [
    "Проверим оценку качества трёх типов рекомендаций: \n",
    "\n",
    "- топ популярных,\n",
    "- персональных, полученных при помощи ALS,\n",
    "- итоговых\n",
    "  \n",
    "по четырем метрикам: recall, precision, coverage, novelty."
   ]
  },
  {
   "cell_type": "code",
   "execution_count": null,
   "id": "94d6f388-aecb-443e-8647-14014e932d4d",
   "metadata": {},
   "outputs": [],
   "source": [
    "top_k_pop_items = pd.read_parquet('top_popular.parquet')\n",
    "events_cold = events[events.user_id.isin(cold_users)]\n",
    "events_cold.info()"
   ]
  },
  {
   "cell_type": "code",
   "execution_count": null,
   "id": "26df411f-14c1-4848-8797-f37afe449cc6",
   "metadata": {},
   "outputs": [],
   "source": [
    "# Добавим топ рекомендованных треков\n",
    "cold_users_events_with_recs = events_cold.merge(top_k_pop_items, on=\"track_id\", how=\"left\") \n",
    "\n",
    "# Отберем данные, которые удалось получить из рекомендаций без пропусков\n",
    "cold_user_items_no_avg_rating_idx = cold_users_events_with_recs[\"avg_rating\"].isnull()\n",
    "cold_user_recs = cold_users_events_with_recs[~cold_user_items_no_avg_rating_idx] \\\n",
    "                 [[\"user_id\", \"track_id\", \"avg_rating\"]]\n",
    "\n",
    "# Отберем данные, где рекомендации не были получены\n",
    "cold_user_no_recs = cold_users_events_with_recs[cold_user_items_no_avg_rating_idx] \\\n",
    "                  [[\"user_id\", \"track_id\", \"avg_rating\"]] "
   ]
  },
  {
   "cell_type": "code",
   "execution_count": null,
   "id": "dab9253a",
   "metadata": {},
   "outputs": [],
   "source": [
    "# Посчитаем покрытие холодных пользователей рекомендациями\n",
    "\n",
    "cold_users_hit_ratio = cold_users_events_with_recs.groupby(\"user_id\").agg(hits=(\"avg_rating\", lambda x: (~x.isnull()).mean()))\n",
    "\n",
    "print(f\"Доля пользователей без релевантных рекомендаций: {(cold_users_hit_ratio == 0).mean().iat[0]:.2f}\")\n",
    "print(f\"Среднее покрытие пользователей: {cold_users_hit_ratio[cold_users_hit_ratio != 0].mean().iat[0]:.2f}\")"
   ]
  },
  {
   "cell_type": "code",
   "execution_count": null,
   "id": "afecad83",
   "metadata": {},
   "outputs": [],
   "source": [
    "# Зададим функцию для расчета recall\n",
    "def calculate_not_null_mean(series: pd.Series) -> float:\n",
    "    \"\"\"Вычисляет среднее значение ненулевых значений\"\"\"\n",
    "    return series.notnull().mean()\n",
    "\n",
    "# Расчитаем среднее количество вхождений популярных треков для всех пользователей\n",
    "recall_top_popular = cold_users_events_with_recs.groupby(\"user_id\")[\"avg_rating\"].apply(calculate_not_null_mean).mean()\n",
    "\n",
    "print(f\"Рекомендации топ-100, recall: {recall_top_popular:.5f}\")"
   ]
  },
  {
   "cell_type": "code",
   "execution_count": null,
   "id": "15806083",
   "metadata": {},
   "outputs": [],
   "source": [
    "# Загрузим рекомендации\n",
    "als_recommendations = pd.read_parquet('personal_als.parquet')"
   ]
  },
  {
   "cell_type": "code",
   "execution_count": null,
   "id": "3d37f5c2",
   "metadata": {},
   "outputs": [],
   "source": [
    "def process_events_recs_for_binary_metrics(events_train, events_test, recs, top_k=None):\n",
    "\n",
    "    \"\"\"\n",
    "    Размечает пары <user_id, item_id> для общего множества пользователей признаками\n",
    "    - gt (ground truth)\n",
    "    - pr (prediction)\n",
    "    top_k: расчёт ведётся только для top k-рекомендаций\n",
    "    \"\"\"\n",
    "    \n",
    "    events_test[\"gt\"] = True\n",
    "    common_users = set(events_test[\"user_id\"]) & set(recs[\"user_id\"])\n",
    "\n",
    "    print(f\"Common users: {len(common_users)}\")\n",
    "    \n",
    "    events_for_common_users = events_test[events_test[\"user_id\"].isin(common_users)].copy()\n",
    "    recs_for_common_users = recs[recs[\"user_id\"].isin(common_users)].copy()\n",
    "\n",
    "    recs_for_common_users = recs_for_common_users.sort_values([\"user_id\", \"score\"], ascending=[True, False])\n",
    "\n",
    "    events_for_common_users = events_for_common_users[events_for_common_users[\"track_id\"].isin(\n",
    "        events_train[\"track_id\"].unique()\n",
    "    )\n",
    "    ]\n",
    "\n",
    "    if top_k is not None:\n",
    "        recs_for_common_users = recs_for_common_users.groupby(\"user_id\").head(top_k)\n",
    "    \n",
    "    events_recs_common = events_for_common_users[[\"user_id\", \"track_id\", \"gt\"]].merge(\n",
    "        recs_for_common_users[[\"user_id\", \"track_id\", \"score\"]], \n",
    "        on=[\"user_id\", \"track_id\"], \n",
    "        how=\"outer\",\n",
    "    )    \n",
    "    events_recs_common[\"gt\"] = events_recs_common[\"gt\"].fillna(False)\n",
    "    events_recs_common[\"pr\"] = ~events_recs_common[\"score\"].isnull()\n",
    "    \n",
    "    events_recs_common[\"tp\"] = events_recs_common[\"gt\"] & events_recs_common[\"pr\"]\n",
    "    events_recs_common[\"fp\"] = ~events_recs_common[\"gt\"] & events_recs_common[\"pr\"]\n",
    "    events_recs_common[\"fn\"] = events_recs_common[\"gt\"] & ~events_recs_common[\"pr\"]\n",
    "\n",
    "    return events_recs_common"
   ]
  },
  {
   "cell_type": "code",
   "execution_count": null,
   "id": "4ba2fd78",
   "metadata": {},
   "outputs": [],
   "source": [
    "events_recs_for_binary_metrics = process_events_recs_for_binary_metrics(\n",
    "    events_train,\n",
    "    events_test, \n",
    "    als_recommendations, \n",
    "    top_k=5)"
   ]
  },
  {
   "cell_type": "code",
   "execution_count": null,
   "id": "ba4e9010",
   "metadata": {},
   "outputs": [],
   "source": [
    "def compute_cls_metrics(events_recs_for_binary_metric):\n",
    "    \n",
    "    \"\"\"Расчет precision и recall\"\"\"\n",
    "    \n",
    "    groupper = events_recs_for_binary_metric.groupby(\"user_id\")\n",
    "\n",
    "    # Computing precision\n",
    "    precision = groupper[\"tp\"].sum()/(groupper[\"tp\"].sum()+groupper[\"fp\"].sum())\n",
    "    precision = precision.fillna(0).mean()\n",
    "    \n",
    "    # Computing recall\n",
    "    recall = groupper[\"tp\"].sum()/(groupper[\"tp\"].sum()+groupper[\"fn\"].sum())\n",
    "    recall = recall.fillna(0).mean()\n",
    "\n",
    "    return precision, recall"
   ]
  },
  {
   "cell_type": "code",
   "execution_count": null,
   "id": "afc941fc",
   "metadata": {},
   "outputs": [],
   "source": [
    "# precision@5, recall@5\n",
    "precision, recall = compute_cls_metrics(events_recs_for_binary_metrics)\n",
    "\n",
    "print(f'Персональные рекомендации, precision: {precision:.4f}, recall: {recall:.4f}')"
   ]
  },
  {
   "cell_type": "code",
   "execution_count": null,
   "id": "30268e2c",
   "metadata": {},
   "outputs": [],
   "source": [
    "# Расчёт покрытия по объектам\n",
    "cov_als = als_recommendations['track_id'].nunique() / als_recommendations['user_id'].nunique()\n",
    "\n",
    "print(f\"Персональные рекомендации, покрытие: {cov_als:.2f}\") "
   ]
  },
  {
   "cell_type": "code",
   "execution_count": null,
   "id": "87e863d0",
   "metadata": {},
   "outputs": [],
   "source": [
    "# разметим каждую рекомендацию признаком listened\n",
    "events_train[\"listened\"] = True\n",
    "\n",
    "als_recommendations = als_recommendations.merge(events_train, on=[\"user_id\", \"track_id\"], how=\"left\")\n",
    "als_recommendations[\"listened\"] = als_recommendations[\"listened\"].fillna(False).astype(\"bool\")"
   ]
  },
  {
   "cell_type": "code",
   "execution_count": null,
   "id": "0841076c",
   "metadata": {},
   "outputs": [],
   "source": [
    "# Проставим ранги\n",
    "als_recommendations = als_recommendations.sort_values(by=[\"user_id\", \"score\"], ascending=[True, False])\n",
    "als_recommendations[\"rank\"] = als_recommendations.groupby(\"user_id\").cumcount() + 1"
   ]
  },
  {
   "cell_type": "code",
   "execution_count": null,
   "id": "4f6d3080",
   "metadata": {},
   "outputs": [],
   "source": [
    "# Посчитаем novelty по пользователям\n",
    "novelty_5_als = (1-als_recommendations.query(\"rank <= 5\").groupby(\"user_id\")[\"listened\"].mean()).mean()\n",
    "\n",
    "print(f\"Персональные рекомендации, novelty_5: {novelty_5_als:.2f}\")"
   ]
  },
  {
   "cell_type": "code",
   "execution_count": null,
   "id": "bc78a1d9",
   "metadata": {},
   "outputs": [],
   "source": [
    "# Загрузим рекомендации\n",
    "final_recommendations = pd.read_parquet('recommendations.parquet')"
   ]
  },
  {
   "cell_type": "code",
   "execution_count": null,
   "id": "08cfdf6d",
   "metadata": {},
   "outputs": [],
   "source": [
    "# Получим метрики для финальных рекомендаций\n",
    "cb_events_recs_for_binary_metrics_5 = process_events_recs_for_binary_metrics(\n",
    "    events_inference,\n",
    "    events_test_2,\n",
    "    final_recommendations.rename(columns={\"cb_score\": \"score\"}), \n",
    "    top_k=5)\n",
    "\n",
    "cb_precision_5, cb_recall_5 = compute_cls_metrics(cb_events_recs_for_binary_metrics_5)\n",
    "\n",
    "print(f\"Итоговые рекомендации, precision: {cb_precision_5:.4f}, recall: {cb_recall_5:.4f}\")"
   ]
  },
  {
   "cell_type": "code",
   "execution_count": null,
   "id": "76d892df",
   "metadata": {},
   "outputs": [],
   "source": [
    "# Расчёт покрытия по объектам\n",
    "cov_final = final_recommendations['track_id'].nunique() / final_recommendations['user_id'].nunique()\n",
    "\n",
    "print(f\"Итоговые рекомендации, покрытие: {cov_final:.2f}\") "
   ]
  },
  {
   "cell_type": "code",
   "execution_count": null,
   "id": "62f48d2c",
   "metadata": {},
   "outputs": [],
   "source": [
    "# разметим каждую рекомендацию признаком listened\n",
    "events_train[\"listened\"] = True\n",
    "\n",
    "final_recommendations = final_recommendations.merge(events_train, on=[\"user_id\", \"track_id\"], how=\"left\")\n",
    "final_recommendations[\"listened\"] = final_recommendations[\"listened\"].fillna(False).astype(\"bool\")"
   ]
  },
  {
   "cell_type": "code",
   "execution_count": null,
   "id": "c4e88074",
   "metadata": {},
   "outputs": [],
   "source": [
    "# Проставим ранги\n",
    "final_recommendations = final_recommendations.sort_values(by=[\"user_id\", \"cb_score\"], ascending=[True, False])\n",
    "final_recommendations[\"rank\"] = final_recommendations.groupby(\"user_id\").cumcount() + 1"
   ]
  },
  {
   "cell_type": "code",
   "execution_count": null,
   "id": "9201657b",
   "metadata": {},
   "outputs": [],
   "source": [
    "# Посчитаем novelty по пользователям\n",
    "novelty_5_final = (1-final_recommendations.query(\"rank <= 5\").groupby(\"user_id\")[\"listened\"].mean()).mean()\n",
    "\n",
    "print(f\"Итоговые рекомендации, novelty_5: {novelty_5_final:.3f}\")"
   ]
  },
  {
   "cell_type": "markdown",
   "id": "f1c8d38c-32b0-46a4-96f0-cd01dac708bc",
   "metadata": {},
   "source": [
    "# === Выводы, метрики ==="
   ]
  },
  {
   "cell_type": "markdown",
   "id": "f7d7d5d8-7d1e-4fdf-a6cd-83e5ce92c684",
   "metadata": {},
   "source": [
    "Основные выводы при работе над расчётом рекомендаций, рассчитанные метрики."
   ]
  },
  {
   "cell_type": "code",
   "execution_count": null,
   "id": "6403097d-db36-46d9-8952-613c9bd51b05",
   "metadata": {},
   "outputs": [],
   "source": [
    "\n",
    "# Сделаем сводную таблицу по метрикам\n",
    "\n",
    "popular_metrics = pd.Series([recall_top_popular], index=[\"recall_top_popular\"], name=\"top_popular\")\n",
    "\n",
    "personal_als_metrics = pd.Series([precision, recall, cov_als, novelty_5_als], \n",
    "                                 index=[\"precision@5\", \"recall@5\", \"coverage\", \"novelty@5\"],\n",
    "                                 name=\"personal_als\")\n",
    "\n",
    "final_recs_metrics = pd.Series([cb_precision_5, cb_recall_5,cov_final,novelty_5_final], \n",
    "                               index=[\"precision@5\", \"recall@5\", \"coverage\", \"novelty@5\"],\n",
    "                               name=\"final_recs\")\n",
    "\n",
    "pd.concat([popular_metrics, personal_als_metrics, final_recs_metrics], axis=1)"
   ]
  },
  {
   "cell_type": "markdown",
   "id": "bfed0d04",
   "metadata": {},
   "source": [
    "Результаты получились не самые лучшие, связано это с тем, что были ограничения в вычислительной мощности и приходилось ограничивать данные. По поводу низких значений метрик покрытия можно сделать вывод, что в рекомендациях представлена лишь небольшая часть треков из общего набора. Ркомендация топ-популярных треков в целом показывает себя лучше на усеченном датасете, по сравнению с другими метриками. Показатель новизны высок, думаю это связано с урезкой датасета."
   ]
  }
 ],
 "metadata": {
  "kernelspec": {
   "display_name": "env_recsys_start",
   "language": "python",
   "name": "python3"
  },
  "language_info": {
   "codemirror_mode": {
    "name": "ipython",
    "version": 3
   },
   "file_extension": ".py",
   "mimetype": "text/x-python",
   "name": "python",
   "nbconvert_exporter": "python",
   "pygments_lexer": "ipython3",
   "version": "3.10.12"
  }
 },
 "nbformat": 4,
 "nbformat_minor": 5
}
